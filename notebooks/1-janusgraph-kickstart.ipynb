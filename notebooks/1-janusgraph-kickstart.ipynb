{
 "cells": [
  {
   "cell_type": "code",
   "execution_count": 360,
   "id": "8d0e52c2-2f15-4aaa-83f4-99694eda082c",
   "metadata": {},
   "outputs": [
    {
     "name": "stdout",
     "output_type": "stream",
     "text": [
      "Defaulting to user installation because normal site-packages is not writeable\n",
      "Collecting janusgraphpython==1.1.1\n",
      "  Downloading janusgraphpython-1.1.1-py3-none-any.whl.metadata (5.5 kB)\n",
      "Collecting gremlinpython==3.7.3 (from janusgraphpython==1.1.1)\n",
      "  Downloading gremlinpython-3.7.3-py3-none-any.whl.metadata (6.4 kB)\n",
      "Requirement already satisfied: nest-asyncio in /home/lucasmsp/.local/lib/python3.10/site-packages (from gremlinpython==3.7.3->janusgraphpython==1.1.1) (1.5.6)\n",
      "Requirement already satisfied: aiohttp<4.0.0,>=3.8.0 in /home/lucasmsp/.local/lib/python3.10/site-packages (from gremlinpython==3.7.3->janusgraphpython==1.1.1) (3.11.11)\n",
      "Requirement already satisfied: aenum<4.0.0,>=1.4.5 in /home/lucasmsp/.local/lib/python3.10/site-packages (from gremlinpython==3.7.3->janusgraphpython==1.1.1) (3.1.16)\n",
      "Requirement already satisfied: isodate<1.0.0,>=0.6.0 in /home/lucasmsp/.local/lib/python3.10/site-packages (from gremlinpython==3.7.3->janusgraphpython==1.1.1) (0.7.2)\n",
      "Requirement already satisfied: async-timeout<5.0.0,>=4.0.3 in /home/lucasmsp/.local/lib/python3.10/site-packages (from gremlinpython==3.7.3->janusgraphpython==1.1.1) (4.0.3)\n",
      "Requirement already satisfied: aiohappyeyeballs>=2.3.0 in /home/lucasmsp/.local/lib/python3.10/site-packages (from aiohttp<4.0.0,>=3.8.0->gremlinpython==3.7.3->janusgraphpython==1.1.1) (2.4.4)\n",
      "Requirement already satisfied: aiosignal>=1.1.2 in /home/lucasmsp/.local/lib/python3.10/site-packages (from aiohttp<4.0.0,>=3.8.0->gremlinpython==3.7.3->janusgraphpython==1.1.1) (1.3.2)\n",
      "Requirement already satisfied: attrs>=17.3.0 in /home/lucasmsp/.local/lib/python3.10/site-packages (from aiohttp<4.0.0,>=3.8.0->gremlinpython==3.7.3->janusgraphpython==1.1.1) (25.3.0)\n",
      "Requirement already satisfied: frozenlist>=1.1.1 in /home/lucasmsp/.local/lib/python3.10/site-packages (from aiohttp<4.0.0,>=3.8.0->gremlinpython==3.7.3->janusgraphpython==1.1.1) (1.5.0)\n",
      "Requirement already satisfied: multidict<7.0,>=4.5 in /home/lucasmsp/.local/lib/python3.10/site-packages (from aiohttp<4.0.0,>=3.8.0->gremlinpython==3.7.3->janusgraphpython==1.1.1) (6.1.0)\n",
      "Requirement already satisfied: propcache>=0.2.0 in /home/lucasmsp/.local/lib/python3.10/site-packages (from aiohttp<4.0.0,>=3.8.0->gremlinpython==3.7.3->janusgraphpython==1.1.1) (0.2.1)\n",
      "Requirement already satisfied: yarl<2.0,>=1.17.0 in /home/lucasmsp/.local/lib/python3.10/site-packages (from aiohttp<4.0.0,>=3.8.0->gremlinpython==3.7.3->janusgraphpython==1.1.1) (1.18.3)\n",
      "Requirement already satisfied: typing-extensions>=4.1.0 in /home/lucasmsp/.local/lib/python3.10/site-packages (from multidict<7.0,>=4.5->aiohttp<4.0.0,>=3.8.0->gremlinpython==3.7.3->janusgraphpython==1.1.1) (4.10.0)\n",
      "Requirement already satisfied: idna>=2.0 in /usr/lib/python3/dist-packages (from yarl<2.0,>=1.17.0->aiohttp<4.0.0,>=3.8.0->gremlinpython==3.7.3->janusgraphpython==1.1.1) (3.3)\n",
      "Downloading janusgraphpython-1.1.1-py3-none-any.whl (42 kB)\n",
      "Downloading gremlinpython-3.7.3-py3-none-any.whl (78 kB)\n",
      "Installing collected packages: gremlinpython, janusgraphpython\n",
      "  Attempting uninstall: gremlinpython\n",
      "    Found existing installation: gremlinpython 3.7.4\n",
      "    Uninstalling gremlinpython-3.7.4:\n",
      "      Successfully uninstalled gremlinpython-3.7.4\n",
      "Successfully installed gremlinpython-3.7.3 janusgraphpython-1.1.1\n",
      "\n",
      "\u001b[1m[\u001b[0m\u001b[34;49mnotice\u001b[0m\u001b[1;39;49m]\u001b[0m\u001b[39;49m A new release of pip is available: \u001b[0m\u001b[31;49m24.2\u001b[0m\u001b[39;49m -> \u001b[0m\u001b[32;49m25.2\u001b[0m\n",
      "\u001b[1m[\u001b[0m\u001b[34;49mnotice\u001b[0m\u001b[1;39;49m]\u001b[0m\u001b[39;49m To update, run: \u001b[0m\u001b[32;49mpython3 -m pip install --upgrade pip\u001b[0m\n"
     ]
    }
   ],
   "source": [
    "! pip install janusgraphpython==1.1.1"
   ]
  },
  {
   "cell_type": "code",
   "execution_count": 19,
   "id": "94490592-6c72-43f5-8367-a9a0755833fc",
   "metadata": {},
   "outputs": [],
   "source": [
    "import nest_asyncio  # Only needed when using Jupyter/Zeppeling notebooks\n",
    "nest_asyncio.apply()"
   ]
  },
  {
   "cell_type": "code",
   "execution_count": 2,
   "id": "617630fb-a901-43ee-a367-e20e31f9a5ef",
   "metadata": {},
   "outputs": [],
   "source": [
    "from gremlin_python import statics\n",
    "from gremlin_python.structure.graph import Graph\n",
    "from gremlin_python.process.graph_traversal import GraphTraversalSource, __, outV, inV, valueMap, both, bothE, bothV\n",
    "from gremlin_python.driver.driver_remote_connection import DriverRemoteConnection\n",
    "from gremlin_python.process.anonymous_traversal import traversal\n",
    "from gremlin_python.driver import client\n",
    "from gremlin_python.process.traversal import Barrier, Bindings, Cardinality, Column, Direction, Operator, Order, P, Pop, Scope, T, WithOptions, within\n",
    "\n",
    "\n",
    "from janusgraph_python.driver.serializer import JanusGraphSONSerializersV3d0\n",
    "from janusgraph_python.process.traversal import Text\n"
   ]
  },
  {
   "cell_type": "markdown",
   "id": "4d3e3546-ca8a-42f4-889a-efbc98a86eac",
   "metadata": {},
   "source": [
    "Interface 1 - String API:\n",
    "\n",
    "In this example, we connect from the *graph* (which allows viewing schemas and other configurations), and then convert to the traversal (to walk through the graph). \n",
    "\n",
    "**Note:** The graph variable is defined in both, standalone or pseudo-distributed setup."
   ]
  },
  {
   "cell_type": "code",
   "execution_count": null,
   "id": "62a5d72a-d61d-49ac-9bb2-c068e152f38a",
   "metadata": {},
   "outputs": [],
   "source": [
    "c = client.Client('ws://localhost:8182/gremlin', 'graph',  message_serializer=JanusGraphSONSerializersV3d0())\n",
    "\n",
    "res = c.submit(\"graph.traversal().V().values('name')\").all().result()\n",
    "\n",
    "print(res)\n"
   ]
  },
  {
   "cell_type": "markdown",
   "id": "914b3967-162c-4b43-9bae-dd0a34b9e359",
   "metadata": {},
   "source": [
    "Interface 2 - Python Interface:\n",
    "\n",
    "In this way, we connect directly through tranversal mode, using g1 and g2 (only defined in pseudo-distributed setup)"
   ]
  },
  {
   "cell_type": "code",
   "execution_count": 365,
   "id": "aebb3179-6e62-4569-bda9-c8cbbfc9e27a",
   "metadata": {},
   "outputs": [
    {
     "name": "stdout",
     "output_type": "stream",
     "text": [
      "7\n",
      "14\n"
     ]
    }
   ],
   "source": [
    "from gremlin_python.process.anonymous_traversal import traversal\n",
    "from gremlin_python.driver.driver_remote_connection import DriverRemoteConnection\n",
    "\n",
    "g1 = traversal().withRemote(DriverRemoteConnection('ws://localhost:8182/gremlin', 'g1',   message_serializer=JanusGraphSONSerializersV3d0()))\n",
    "print(g1.V().count().next())\n",
    "\n",
    "g2 = traversal().withRemote(DriverRemoteConnection('ws://localhost:8182/gremlin', 'g2',    message_serializer=JanusGraphSONSerializersV3d0()))\n",
    "print(g2.V().count().next())"
   ]
  },
  {
   "cell_type": "code",
   "execution_count": null,
   "id": "6f2cbb9c-8455-4668-905f-b1dc284ced18",
   "metadata": {},
   "outputs": [],
   "source": [
    "from typing import Optional\n",
    "\n",
    "def find_vertex_id(g, name):\n",
    "    v = g.V().has('name', name).toList()\n",
    "    if v:\n",
    "        return v[0]\n",
    "    else:\n",
    "        print(\"Vertice not found\")\n",
    "    \n",
    "\n",
    "def add_edge(g: GraphTraversalSource, from_id: int, to_id: str, edge_label: str, param: Optional[str] = None):\n",
    "    \n",
    "    v1 = find_vertex_id(g, from_id)\n",
    "    v2 = find_vertex_id(g, to_id)\n",
    "    g.V(v1).addE(edge_label).to(__.V(v2)).property(\"param\", param).next()\n",
    "\n",
    "def add_vertex(g: GraphTraversalSource, vertex_label: str, name: Optional[str] = None):\n",
    "    g.addV(vertex_label).property(\"name\", name).next()\n",
    "\n",
    "def init_toy_graph(g: GraphTraversalSource):\n",
    "    g.V().drop().iterate()  # remove tudo\n",
    "    g.E().drop().iterate()  \n",
    "    add_vertex(g, \"user\",  name=\"Lucas\")\n",
    "    add_vertex(g, \"user\",  name=\"Julia\")\n",
    "    add_vertex(g, \"file\",  name=\"your_new_idea.pdf\")\n",
    "    add_vertex(g, \"file\",  name=\"salary.pdf\")\n",
    "    add_vertex(g, \"file\",  name=\"demo.py\")\n",
    "    add_vertex(g, \"file\",  name=\"blog.html\")\n",
    "    add_vertex(g, \"drive\", name=\"my_drive\")\n",
    "    add_edge(g, \"Lucas\", 'salary.pdf', \"edit\")\n",
    "    add_edge(g, \"Lucas\", \"demo.py\", \"edit\")\n",
    "    add_edge(g, \"Lucas\", \"my_drive\", \"view\")\n",
    "    add_edge(g, 'Julia', \"your_new_idea.pdf\", \"print\")\n",
    "    add_edge(g, \"Julia\", \"your_new_idea.pdf\", \"edit\")\n",
    "    add_edge(g, \"your_new_idea.pdf\", 'my_drive', \"located_in\")\n",
    "\n",
    "init_toy_graph(g1)"
   ]
  },
  {
   "cell_type": "markdown",
   "id": "48896b3d-9898-44ad-a659-3e0495d220dc",
   "metadata": {},
   "source": [
    "List all vertices names:"
   ]
  },
  {
   "cell_type": "code",
   "execution_count": 6,
   "id": "b10fa749-30f2-46df-acbf-18b4489976f1",
   "metadata": {},
   "outputs": [
    {
     "name": "stdout",
     "output_type": "stream",
     "text": [
      "['Lucas', 'salary.pdf', 'my_drive', 'blog.html', 'Julia', 'your_new_idea.pdf', 'demo.py']\n"
     ]
    }
   ],
   "source": [
    "print(g1.V().values('name').toList())"
   ]
  },
  {
   "cell_type": "markdown",
   "id": "de12dd88-0c1e-4c70-ad71-05b318e2867a",
   "metadata": {},
   "source": [
    "List all vertices properties:"
   ]
  },
  {
   "cell_type": "code",
   "execution_count": 317,
   "id": "1356db1d-4b38-4752-b559-f20bfd4de0b3",
   "metadata": {},
   "outputs": [
    {
     "data": {
      "text/plain": [
       "[{'name': ['your_new_idea.pdf'], <T.id: 1>: 4112, <T.label: 4>: 'file'},\n",
       " {'name': ['my_drive'], <T.id: 1>: 8208, <T.label: 4>: 'drive'},\n",
       " {'name': ['Lucas'], <T.id: 1>: 4200, <T.label: 4>: 'user'},\n",
       " {'name': ['salary.pdf'], <T.id: 1>: 8296, <T.label: 4>: 'file'},\n",
       " {'name': ['demo.py'], <T.id: 1>: 12392, <T.label: 4>: 'file'},\n",
       " {'name': ['blog.html'], <T.id: 1>: 4280, <T.label: 4>: 'file'},\n",
       " {'name': ['Julia'], <T.id: 1>: 4312, <T.label: 4>: 'user'}]"
      ]
     },
     "execution_count": 317,
     "metadata": {},
     "output_type": "execute_result"
    }
   ],
   "source": [
    "g1.V().valueMap(True).toList()"
   ]
  },
  {
   "cell_type": "markdown",
   "id": "5d1481fe-b715-4fd6-b1d0-801a1454974e",
   "metadata": {},
   "source": [
    "Retrieve all vertices (files) that were edited by any user in the system."
   ]
  },
  {
   "cell_type": "code",
   "execution_count": 318,
   "id": "1222c2a7-cba4-4d50-b71c-0807a0edadc2",
   "metadata": {},
   "outputs": [
    {
     "data": {
      "text/plain": [
       "[v[8296], v[12392], v[4112]]"
      ]
     },
     "execution_count": 318,
     "metadata": {},
     "output_type": "execute_result"
    }
   ],
   "source": [
    "g1.V().out(\"edit\").hasLabel(\"file\").toList()"
   ]
  },
  {
   "cell_type": "markdown",
   "id": "6e699bf5-fe3c-4d4e-ad79-a9c76db31a89",
   "metadata": {},
   "source": [
    "Same example, but returning the name instead of vertice id"
   ]
  },
  {
   "cell_type": "code",
   "execution_count": 319,
   "id": "c28910e1-cc3f-487f-be94-01f902ffeace",
   "metadata": {},
   "outputs": [
    {
     "data": {
      "text/plain": [
       "['salary.pdf', 'demo.py', 'your_new_idea.pdf']"
      ]
     },
     "execution_count": 319,
     "metadata": {},
     "output_type": "execute_result"
    }
   ],
   "source": [
    "g1.V().out(\"edit\").hasLabel(\"file\").values('name').toList()"
   ]
  },
  {
   "cell_type": "markdown",
   "id": "eb8a611d-9490-489d-b2e6-3e58548e71cf",
   "metadata": {},
   "source": [
    "We can access a vertice directly if the have it vertice id:"
   ]
  },
  {
   "cell_type": "code",
   "execution_count": 321,
   "id": "609030f0-f6cd-4f67-9547-8924a47353a8",
   "metadata": {},
   "outputs": [
    {
     "data": {
      "text/plain": [
       "{'name': ['salary.pdf'], <T.id: 1>: 8296, <T.label: 4>: 'file'}"
      ]
     },
     "execution_count": 321,
     "metadata": {},
     "output_type": "execute_result"
    }
   ],
   "source": [
    "g1.V(8296).valueMap(True).next()"
   ]
  },
  {
   "cell_type": "markdown",
   "id": "6a1ebaa1-8a55-411e-8643-2bbf3aa84a94",
   "metadata": {},
   "source": [
    "Listing all edges:"
   ]
  },
  {
   "cell_type": "code",
   "execution_count": null,
   "id": "64f89035-bbc1-4344-bf49-94481b0d79a2",
   "metadata": {},
   "outputs": [],
   "source": [
    "for e in g1.E().limit(10).toList():\n",
    "    print(e)"
   ]
  },
  {
   "cell_type": "markdown",
   "id": "944daf7f-3d94-4630-8996-131bdcfb8730",
   "metadata": {},
   "source": [
    "Another way to list edges and their properties:"
   ]
  },
  {
   "cell_type": "code",
   "execution_count": 322,
   "id": "eacf719c-b434-4d5c-bcd8-bcc00ce16cdc",
   "metadata": {},
   "outputs": [
    {
     "data": {
      "text/plain": [
       "[{<T.id: 1>: {'@type': 'janusgraph:RelationIdentifier',\n",
       "   '@value': {'relationId': '2rm-368-6c5-6c0'}},\n",
       "  <T.label: 4>: 'located_in'},\n",
       " {<T.id: 1>: {'@type': 'janusgraph:RelationIdentifier',\n",
       "   '@value': {'relationId': '3yl-38o-3yt-6eg'}},\n",
       "  <T.label: 4>: 'edit'},\n",
       " {<T.id: 1>: {'@type': 'janusgraph:RelationIdentifier',\n",
       "   '@value': {'relationId': '4ct-38o-3yt-9k8'}},\n",
       "  <T.label: 4>: 'edit'},\n",
       " {<T.id: 1>: {'@type': 'janusgraph:RelationIdentifier',\n",
       "   '@value': {'relationId': '4r1-38o-4r9-6c0'}},\n",
       "  <T.label: 4>: 'view'},\n",
       " {<T.id: 1>: {'@type': 'janusgraph:RelationIdentifier',\n",
       "   '@value': {'relationId': '1zv-3bs-3yt-368'}},\n",
       "  <T.label: 4>: 'edit'},\n",
       " {<T.id: 1>: {'@type': 'janusgraph:RelationIdentifier',\n",
       "   '@value': {'relationId': '1ln-3bs-5jp-368'}},\n",
       "  <T.label: 4>: 'print'}]"
      ]
     },
     "execution_count": 322,
     "metadata": {},
     "output_type": "execute_result"
    }
   ],
   "source": [
    "g1.E().valueMap(True).toList()"
   ]
  },
  {
   "cell_type": "markdown",
   "id": "1af69862-3c1b-4176-9fff-6f15b71fd39f",
   "metadata": {},
   "source": [
    "Example: Retrieve all vertices and edges to create a networkx graph"
   ]
  },
  {
   "cell_type": "code",
   "execution_count": 324,
   "id": "879cff9a-9eec-4684-9d0d-9fdb8551131a",
   "metadata": {},
   "outputs": [],
   "source": [
    "vertices = g1.V().valueMap(True).toList()\n",
    "\n",
    "arestas = g1.E().project('from_name', 'to_name', 'edge_props') \\\n",
    "    .by(outV().values('name').fold()) \\\n",
    "    .by(inV().values('name').fold()) \\\n",
    "    .by(valueMap(True)).toList()"
   ]
  },
  {
   "cell_type": "code",
   "execution_count": 326,
   "id": "48325d31-1816-426d-986d-d75e143a0819",
   "metadata": {},
   "outputs": [
    {
     "name": "stdout",
     "output_type": "stream",
     "text": [
      "Aresta de ['your_new_idea.pdf'] para ['my_drive']: located_in\n",
      "Aresta de ['Lucas'] para ['salary.pdf']: edit\n",
      "Aresta de ['Lucas'] para ['demo.py']: edit\n",
      "Aresta de ['Lucas'] para ['my_drive']: view\n",
      "Aresta de ['Julia'] para ['your_new_idea.pdf']: edit\n",
      "Aresta de ['Julia'] para ['your_new_idea.pdf']: print\n"
     ]
    }
   ],
   "source": [
    "for edge in arestas:\n",
    "    print(f\"Aresta de {edge['from_name']} para {edge['to_name']}: {edge['edge_props'][T.label]}\")"
   ]
  },
  {
   "cell_type": "code",
   "execution_count": 327,
   "id": "76f31f62-6e69-426c-b2c4-53889198fdb9",
   "metadata": {},
   "outputs": [
    {
     "data": {
      "image/png": "[encoded data removed]",
      "text/plain": [
       "<Figure size 432x288 with 1 Axes>"
      ]
     },
     "metadata": {},
     "output_type": "display_data"
    }
   ],
   "source": [
    "import networkx as nx\n",
    "import matplotlib.pyplot as plt\n",
    "\n",
    "G = nx.DiGraph()\n",
    "\n",
    "for v in vertices:\n",
    "    G.add_node(v['name'][0])\n",
    "    \n",
    "for e in arestas:\n",
    "\n",
    "    G.add_edge(e['from_name'][0], e['to_name'][0], label=e['edge_props'][T.label])\n",
    "nx.draw(G, with_labels=True)\n",
    "plt.show()"
   ]
  },
  {
   "cell_type": "markdown",
   "id": "1dd30c4b-23e5-4c0a-8de9-68c5443f474b",
   "metadata": {},
   "source": [
    "Listing all edges using project (to better preview):"
   ]
  },
  {
   "cell_type": "code",
   "execution_count": 328,
   "id": "893a0285-cc5f-4a8e-81c2-075380664bd5",
   "metadata": {},
   "outputs": [
    {
     "data": {
      "text/plain": [
       "[{'out': 4112, 'in': 8208},\n",
       " {'out': 4200, 'in': 8296},\n",
       " {'out': 4200, 'in': 12392},\n",
       " {'out': 4200, 'in': 8208},\n",
       " {'out': 4312, 'in': 4112},\n",
       " {'out': 4312, 'in': 4112}]"
      ]
     },
     "execution_count": 328,
     "metadata": {},
     "output_type": "execute_result"
    }
   ],
   "source": [
    "g1.E().limit(10)\\\n",
    "    .project('id', 'out', 'in', 'label') \\\n",
    "    .by('id')\\\n",
    "    .by(outV().id_())\\\n",
    "    .by(inV().id_())\\\n",
    "    .toList()"
   ]
  },
  {
   "cell_type": "markdown",
   "id": "4a044fbf-d1a9-4306-87f8-57c7dce041dc",
   "metadata": {},
   "source": [
    "Select all vertices with a X hop-distance:"
   ]
  },
  {
   "cell_type": "code",
   "execution_count": 329,
   "id": "cbc3ea28-0951-4cc7-b2ff-a2c1326eb640",
   "metadata": {},
   "outputs": [
    {
     "name": "stdout",
     "output_type": "stream",
     "text": [
      "[8296, 12392, 8208]\n",
      "[{'from_name': [4112], 'to_name': [8208], 'edge_props': {<T.id: 1>: {'@type': 'janusgraph:RelationIdentifier', '@value': {'relationId': '2rm-368-6c5-6c0'}}, <T.label: 4>: 'located_in'}}, {'from_name': [4200], 'to_name': [8296], 'edge_props': {<T.id: 1>: {'@type': 'janusgraph:RelationIdentifier', '@value': {'relationId': '3yl-38o-3yt-6eg'}}, <T.label: 4>: 'edit'}}, {'from_name': [4200], 'to_name': [12392], 'edge_props': {<T.id: 1>: {'@type': 'janusgraph:RelationIdentifier', '@value': {'relationId': '4ct-38o-3yt-9k8'}}, <T.label: 4>: 'edit'}}, {'from_name': [4200], 'to_name': [8208], 'edge_props': {<T.id: 1>: {'@type': 'janusgraph:RelationIdentifier', '@value': {'relationId': '4r1-38o-4r9-6c0'}}, <T.label: 4>: 'view'}}]\n",
      "Vértices encontrados: 3\n",
      "Arestas encontradas: 4\n"
     ]
    }
   ],
   "source": [
    "\n",
    "vertices = g1.V().has('name', 'Lucas').repeat(__.both().simplePath()).emit().times(1).dedup().id_().toList()\n",
    "print(vertices)\n",
    "\n",
    "\n",
    "edges = g1.E() \\\n",
    "    .filter_(bothV().id_().is_(within(vertices))) \\\n",
    "    .project('from_name', 'to_name', 'edge_props') \\\n",
    "    .by(outV().id_().fold()) \\\n",
    "    .by(inV().id_().fold()) \\\n",
    "    .by(valueMap(True)).toList()\n",
    "\n",
    "print(edges)\n",
    "\n",
    "print(f\"Vértices encontrados: {len(vertices)}\")\n",
    "print(f\"Arestas encontradas: {len(edges)}\")"
   ]
  },
  {
   "cell_type": "code",
   "execution_count": 330,
   "id": "58143f91-3e2b-4249-9e68-154ebf1cd321",
   "metadata": {},
   "outputs": [
    {
     "data": {
      "image/png": "[encoded data removed]",
      "text/plain": [
       "<Figure size 432x288 with 1 Axes>"
      ]
     },
     "metadata": {},
     "output_type": "display_data"
    }
   ],
   "source": [
    "import networkx as nx\n",
    "import matplotlib.pyplot as plt\n",
    "\n",
    "G = nx.DiGraph()\n",
    "\n",
    "for v in vertices:\n",
    "    G.add_node(v)\n",
    "    \n",
    "for e in edges:\n",
    "\n",
    "    G.add_edge(e['from_name'][0], e['to_name'][0])\n",
    "nx.draw(G, with_labels=True)\n",
    "plt.show()"
   ]
  },
  {
   "cell_type": "markdown",
   "id": "e9ff35b3-5558-4c6f-aa2b-c99ef8cf219d",
   "metadata": {},
   "source": [
    "## Trabalhando com o G2:"
   ]
  },
  {
   "cell_type": "code",
   "execution_count": 333,
   "id": "7db90abb-5137-451a-93d5-5c52a38e35a0",
   "metadata": {},
   "outputs": [
    {
     "data": {
      "text/plain": [
       "[]"
      ]
     },
     "execution_count": 333,
     "metadata": {},
     "output_type": "execute_result"
    }
   ],
   "source": [
    "g2.V().valueMap(True).toList()"
   ]
  },
  {
   "cell_type": "markdown",
   "id": "6b60009e-9b2d-4dec-8d77-e6b758b67bad",
   "metadata": {},
   "source": [
    "Como o G2 foi configurado no modo de bulk-load, primeiro precisamos criar o esquema, como o exemplo abaixo:\n",
    "\n",
    "```python\n",
    "\n",
    "complete_schema = \"\"\"\n",
    "mgmt = graph2.openManagement()\n",
    "\n",
    "// Vertex labels\n",
    "pessoa = mgmt.makeVertexLabel('Pessoa').make()\n",
    "empresa = mgmt.makeVertexLabel('Empresa').make()\n",
    "\n",
    "// Edge labels\n",
    "trabalha = mgmt.makeEdgeLabel('trabalha').make()\n",
    "conhece = mgmt.makeEdgeLabel('conhece').make()\n",
    "\n",
    "// Properties\n",
    "name = mgmt.makePropertyKey('name').dataType(String.class).make()\n",
    "idade = mgmt.makePropertyKey('idade').dataType(Integer.class).make()\n",
    "cargo = mgmt.makePropertyKey('cargo').dataType(String.class).make()\n",
    "\n",
    "// Índices\n",
    "mgmt.buildIndex('byPersonName', Vertex.class).addKey(name).indexOnly(pessoa).buildCompositeIndex()\n",
    "mgmt.buildIndex('byCompanyName', Vertex.class).addKey(name).indexOnly(empresa).buildCompositeIndex()\n",
    "\n",
    "mgmt.commit()\n",
    "\"\"\"\n",
    "\n",
    "client.submit(complete_schema)\n",
    "\n",
    "```"
   ]
  },
  {
   "cell_type": "code",
   "execution_count": 335,
   "id": "caf28b10-9bc6-4700-a618-b01664407f22",
   "metadata": {},
   "outputs": [],
   "source": [
    "from gremlin_python.driver.client import Client\n",
    "\n",
    "c2 = Client('ws://localhost:8182/gremlin', 'g2')\n",
    "\n",
    "# Definir schema para vértices\n",
    "schema_commands = \"\"\"\n",
    "mgmt = graph2.openManagement()\n",
    "\n",
    "// Criar vertex label\n",
    "pessoa = mgmt.makeVertexLabel('Pessoa').make()\n",
    "\n",
    "// Criar propriedades\n",
    "name = mgmt.makePropertyKey('name').dataType(String.class).make()\n",
    "idade = mgmt.makePropertyKey('idade').dataType(Integer.class).make()\n",
    "\n",
    "// Criar índices (opcional mas recomendado)\n",
    "mgmt.buildIndex('byName', Vertex.class).addKey(name).buildCompositeIndex()\n",
    "\n",
    "mgmt.commit()\n",
    "\"\"\"\n",
    "\n",
    "c2.submit(schema_commands)\n",
    "c2.close()"
   ]
  },
  {
   "cell_type": "code",
   "execution_count": 338,
   "id": "7bb72cea-ef86-4646-b276-a9c346a42282",
   "metadata": {},
   "outputs": [],
   "source": [
    "c2 = Client('ws://localhost:8182/gremlin', 'g2')\n",
    "edge_schema = \"\"\"\n",
    "mgmt = graph2.openManagement()\n",
    "\n",
    "// Criar edge label\n",
    "colega = mgmt.makeEdgeLabel('colega').make()\n",
    "amigo = mgmt.makeEdgeLabel('amigo').make()\n",
    "\n",
    "// Propriedades da aresta\n",
    "desde = mgmt.makePropertyKey('desde').dataType(Integer.class).make()\n",
    "\n",
    "mgmt.commit()\n",
    "\"\"\"\n",
    "\n",
    "c2.submit(edge_schema)\n",
    "c2.close()"
   ]
  },
  {
   "cell_type": "markdown",
   "id": "454fc9f7-2acc-44a4-971c-48d0c651708a",
   "metadata": {},
   "source": [
    "Conferindo:"
   ]
  },
  {
   "cell_type": "code",
   "execution_count": 341,
   "id": "d103a21e-9e4e-45f8-ba27-2ceaeddbc101",
   "metadata": {},
   "outputs": [
    {
     "name": "stdout",
     "output_type": "stream",
     "text": [
      "Vertex labels: ['Pessoa']\n",
      "Edge labels: ['colega', 'amigo']\n"
     ]
    }
   ],
   "source": [
    "c2 = Client('ws://localhost:8182/gremlin', 'g2')\n",
    "\n",
    "# Ver vertex labels\n",
    "result = c2.submit(\"mgmt = graph2.openManagement(); mgmt.getVertexLabels().collect{it.name()}\")\n",
    "print(\"Vertex labels:\", result.all().result())\n",
    "\n",
    "# Ver edge labels  \n",
    "result = c2.submit(\"mgmt = graph2.openManagement(); mgmt.getRelationTypes(EdgeLabel.class).collect{it.name()}\")\n",
    "print(\"Edge labels:\", result.all().result())\n",
    "c2.close()"
   ]
  },
  {
   "cell_type": "markdown",
   "id": "890bc7d8-f862-4c85-97aa-ee0faf58dc9b",
   "metadata": {},
   "source": [
    "Após isso, pode-se criar vertices e arestas  da forma habitual:"
   ]
  },
  {
   "cell_type": "code",
   "execution_count": 9,
   "id": "bf5ece14-c83f-468a-9aa6-ee5275832906",
   "metadata": {},
   "outputs": [
    {
     "ename": "NameError",
     "evalue": "name 'g2' is not defined",
     "output_type": "error",
     "traceback": [
      "\u001b[0;31m---------------------------------------------------------------------------\u001b[0m",
      "\u001b[0;31mNameError\u001b[0m                                 Traceback (most recent call last)",
      "\u001b[0;32m/tmp/ipykernel_1383689/3911234082.py\u001b[0m in \u001b[0;36m<module>\u001b[0;34m\u001b[0m\n\u001b[1;32m      1\u001b[0m \u001b[0;31m# Cria vértice com label e propriedades\u001b[0m\u001b[0;34m\u001b[0m\u001b[0;34m\u001b[0m\u001b[0m\n\u001b[0;32m----> 2\u001b[0;31m \u001b[0mv1\u001b[0m \u001b[0;34m=\u001b[0m \u001b[0mg2\u001b[0m\u001b[0;34m.\u001b[0m\u001b[0maddV\u001b[0m\u001b[0;34m(\u001b[0m\u001b[0;34m'Pessoa'\u001b[0m\u001b[0;34m)\u001b[0m\u001b[0;34m.\u001b[0m\u001b[0mproperty\u001b[0m\u001b[0;34m(\u001b[0m\u001b[0;34m'name'\u001b[0m\u001b[0;34m,\u001b[0m \u001b[0;34m'Lucas'\u001b[0m\u001b[0;34m)\u001b[0m\u001b[0;34m.\u001b[0m\u001b[0mproperty\u001b[0m\u001b[0;34m(\u001b[0m\u001b[0;34m'idade'\u001b[0m\u001b[0;34m,\u001b[0m \u001b[0;36m28\u001b[0m\u001b[0;34m)\u001b[0m\u001b[0;34m.\u001b[0m\u001b[0mnext\u001b[0m\u001b[0;34m(\u001b[0m\u001b[0;34m)\u001b[0m\u001b[0;34m\u001b[0m\u001b[0;34m\u001b[0m\u001b[0m\n\u001b[0m\u001b[1;32m      3\u001b[0m \u001b[0mv2\u001b[0m \u001b[0;34m=\u001b[0m \u001b[0mg2\u001b[0m\u001b[0;34m.\u001b[0m\u001b[0maddV\u001b[0m\u001b[0;34m(\u001b[0m\u001b[0;34m'Pessoa'\u001b[0m\u001b[0;34m)\u001b[0m\u001b[0;34m.\u001b[0m\u001b[0mproperty\u001b[0m\u001b[0;34m(\u001b[0m\u001b[0;34m'name'\u001b[0m\u001b[0;34m,\u001b[0m \u001b[0;34m'Ana'\u001b[0m\u001b[0;34m)\u001b[0m\u001b[0;34m.\u001b[0m\u001b[0mproperty\u001b[0m\u001b[0;34m(\u001b[0m\u001b[0;34m'idade'\u001b[0m\u001b[0;34m,\u001b[0m \u001b[0;36m32\u001b[0m\u001b[0;34m)\u001b[0m\u001b[0;34m.\u001b[0m\u001b[0mnext\u001b[0m\u001b[0;34m(\u001b[0m\u001b[0;34m)\u001b[0m\u001b[0;34m\u001b[0m\u001b[0;34m\u001b[0m\u001b[0m\n\u001b[1;32m      4\u001b[0m \u001b[0mv3\u001b[0m \u001b[0;34m=\u001b[0m \u001b[0mg2\u001b[0m\u001b[0;34m.\u001b[0m\u001b[0maddV\u001b[0m\u001b[0;34m(\u001b[0m\u001b[0;34m'Pessoa'\u001b[0m\u001b[0;34m)\u001b[0m\u001b[0;34m.\u001b[0m\u001b[0mproperty\u001b[0m\u001b[0;34m(\u001b[0m\u001b[0;34m'name'\u001b[0m\u001b[0;34m,\u001b[0m \u001b[0;34m'João'\u001b[0m\u001b[0;34m)\u001b[0m\u001b[0;34m.\u001b[0m\u001b[0mproperty\u001b[0m\u001b[0;34m(\u001b[0m\u001b[0;34m'idade'\u001b[0m\u001b[0;34m,\u001b[0m \u001b[0;36m41\u001b[0m\u001b[0;34m)\u001b[0m\u001b[0;34m.\u001b[0m\u001b[0mnext\u001b[0m\u001b[0;34m(\u001b[0m\u001b[0;34m)\u001b[0m\u001b[0;34m\u001b[0m\u001b[0;34m\u001b[0m\u001b[0m\n\u001b[1;32m      5\u001b[0m \u001b[0;34m\u001b[0m\u001b[0m\n",
      "\u001b[0;31mNameError\u001b[0m: name 'g2' is not defined"
     ]
    }
   ],
   "source": [
    "# Cria vértice com label e propriedades\n",
    "v1 = g2.addV('Pessoa').property('name', 'Lucas').property('idade', 28).next()\n",
    "v2 = g2.addV('Pessoa').property('name', 'Ana').property('idade', 32).next()\n",
    "v3 = g2.addV('Pessoa').property('name', 'João').property('idade', 41).next()\n",
    "\n",
    "e1 = g2.addE('amigo').from_(v1).to(v2).property('desde', 2020).next()\n",
    "\n",
    "e2 = g2.addE('colega').from_(v2).to(v3).property('desde', 2021).next()"
   ]
  },
  {
   "cell_type": "code",
   "execution_count": 402,
   "id": "9d17158c-f721-470e-a17e-bc89362b6534",
   "metadata": {},
   "outputs": [
    {
     "data": {
      "text/plain": [
       "[{'name': ['Ana'], 'idade': [32], <T.id: 1>: 36888, <T.label: 4>: 'Pessoa'},\n",
       " {'name': ['João'], 'idade': [41], <T.id: 1>: 32816, <T.label: 4>: 'Pessoa'},\n",
       " {'name': ['Lucas'], 'idade': [28], <T.id: 1>: 41064, <T.label: 4>: 'Pessoa'}]"
      ]
     },
     "execution_count": 402,
     "metadata": {},
     "output_type": "execute_result"
    }
   ],
   "source": [
    "g2.V().valueMap(True).toList()"
   ]
  },
  {
   "cell_type": "code",
   "execution_count": 403,
   "id": "d7c0f3b0-0aad-485d-998c-318a47cc8d75",
   "metadata": {},
   "outputs": [
    {
     "name": "stdout",
     "output_type": "stream",
     "text": [
      "e[f0j-sgo-3yt-pbk][36888-colega->32816]\n",
      "e[g7h-voo-4r9-sgo][41064-amigo->36888]\n"
     ]
    }
   ],
   "source": [
    "for e in g2.E().limit(10).toList():\n",
    "    print(e)"
   ]
  },
  {
   "cell_type": "markdown",
   "id": "4342f862-1ae2-4177-8cac-5a0a42b9e151",
   "metadata": {},
   "source": [
    "Ou via Spark.\n",
    "\n",
    "\n",
    "1º criamos o DF de vértices e de arestas separadamente:"
   ]
  },
  {
   "cell_type": "code",
   "execution_count": 4,
   "id": "dd59a5ea-0a68-48f5-b2ec-271d21cb4c43",
   "metadata": {},
   "outputs": [
    {
     "name": "stdout",
     "output_type": "stream",
     "text": [
      "25/08/18 09:20:12 WARN Utils: Your hostname, lucasmsp-Inspiron-7580 resolves to a loopback address: 127.0.1.1; using 192.168.15.13 instead (on interface wlp3s0)\n",
      "25/08/18 09:20:12 WARN Utils: Set SPARK_LOCAL_IP if you need to bind to another address\n"
     ]
    },
    {
     "name": "stderr",
     "output_type": "stream",
     "text": [
      "Setting default log level to \"WARN\".\n",
      "To adjust logging level use sc.setLogLevel(newLevel). For SparkR, use setLogLevel(newLevel).\n"
     ]
    },
    {
     "name": "stdout",
     "output_type": "stream",
     "text": [
      "25/08/18 09:20:13 WARN NativeCodeLoader: Unable to load native-hadoop library for your platform... using builtin-java classes where applicable\n"
     ]
    },
    {
     "name": "stderr",
     "output_type": "stream",
     "text": [
      "                                                                                \r"
     ]
    },
    {
     "name": "stdout",
     "output_type": "stream",
     "text": [
      "+--------------+-----+\n",
      "|          name|idade|\n",
      "+--------------+-----+\n",
      "|   Lucas Silva|   28|\n",
      "|     Ana Costa|   32|\n",
      "|   João Santos|   41|\n",
      "|Maria Oliveira|   25|\n",
      "| Pedro Almeida|   35|\n",
      "|Carla Ferreira|   29|\n",
      "|   Rafael Lima|   33|\n",
      "|   Julia Rocha|   27|\n",
      "+--------------+-----+\n",
      "\n"
     ]
    }
   ],
   "source": [
    "from pyspark.sql import SparkSession\n",
    "from pyspark.sql.types import StructType, StructField, StringType, IntegerType\n",
    "\n",
    "spark = SparkSession.builder.appName(\"JanusGraphBulkLoad\").getOrCreate()\n",
    "\n",
    "# DataFrame de pessoas\n",
    "pessoas_data = [\n",
    "    (\"Lucas Silva\", 28),\n",
    "    (\"Ana Costa\", 32),\n",
    "    (\"João Santos\", 41),\n",
    "    (\"Maria Oliveira\", 25),\n",
    "    (\"Pedro Almeida\", 35),\n",
    "    (\"Carla Ferreira\", 29),\n",
    "    (\"Rafael Lima\", 33),\n",
    "    (\"Julia Rocha\", 27)\n",
    "]\n",
    "\n",
    "pessoas_schema = StructType([\n",
    "    StructField(\"name\", StringType(), True),\n",
    "    StructField(\"idade\", IntegerType(), True)\n",
    "])\n",
    "\n",
    "df_pessoas = spark.createDataFrame(pessoas_data, pessoas_schema)\n",
    "df_pessoas.show()\n"
   ]
  },
  {
   "cell_type": "code",
   "execution_count": 7,
   "id": "d50263f6-1068-4ed7-9fb5-395f218a9b52",
   "metadata": {},
   "outputs": [
    {
     "name": "stdout",
     "output_type": "stream",
     "text": [
      "+------+--------------+--------------+-----+\n",
      "| label|  pessoa1_name|  pessoa2_name|desde|\n",
      "+------+--------------+--------------+-----+\n",
      "| amigo|   Lucas Silva|     Ana Costa| 2019|\n",
      "| amigo|   Lucas Silva|Maria Oliveira| 2020|\n",
      "|colega|     Ana Costa|   João Santos| 2018|\n",
      "|colega|   João Santos| Pedro Almeida| 2021|\n",
      "|colega|Maria Oliveira|   Rafael Lima| 2020|\n",
      "| amigo| Pedro Almeida|Carla Ferreira| 2022|\n",
      "| amigo|Carla Ferreira|   Julia Rocha| 2019|\n",
      "| amigo|   Rafael Lima|   Julia Rocha| 2021|\n",
      "+------+--------------+--------------+-----+\n",
      "\n"
     ]
    }
   ],
   "source": [
    "conhece_data = [\n",
    "    (\"amigo\", \"Lucas Silva\", \"Ana Costa\", 2019),\n",
    "    (\"amigo\",\"Lucas Silva\", \"Maria Oliveira\", 2020),\n",
    "    (\"colega\",\"Ana Costa\", \"João Santos\", 2018),\n",
    "    (\"colega\",\"João Santos\", \"Pedro Almeida\", 2021),\n",
    "    (\"colega\", \"Maria Oliveira\", \"Rafael Lima\", 2020),\n",
    "    (\"amigo\", \"Pedro Almeida\", \"Carla Ferreira\", 2022),\n",
    "    (\"amigo\", \"Carla Ferreira\", \"Julia Rocha\", 2019),\n",
    "    (\"amigo\", \"Rafael Lima\", \"Julia Rocha\", 2021)\n",
    "]\n",
    "\n",
    "conhece_schema = StructType([\n",
    "    StructField(\"label\", StringType(), True),\n",
    "    StructField(\"pessoa1_name\", StringType(), True),\n",
    "    StructField(\"pessoa2_name\", StringType(), True),\n",
    "    StructField(\"desde\", IntegerType(), True)\n",
    "])\n",
    "\n",
    "df_conhece = spark.createDataFrame(conhece_data, conhece_schema)\n",
    "df_conhece.show()"
   ]
  },
  {
   "cell_type": "code",
   "execution_count": 9,
   "id": "7b5e837b-e00d-41fb-b683-8ef82c75a059",
   "metadata": {},
   "outputs": [
    {
     "name": "stderr",
     "output_type": "stream",
     "text": [
      "Unclosed connection\n",
      "client_connection: Connection<ConnectionKey(host='localhost', port=8182, is_ssl=False, ssl=True, proxy=None, proxy_auth=None, proxy_headers_hash=None)>\n",
      "                                                                                \r"
     ]
    }
   ],
   "source": [
    "from contextlib import contextmanager\n",
    "from gremlin_python.driver.client import Client\n",
    "\n",
    "import warnings\n",
    "import logging\n",
    "\n",
    "# Suprimir warnings de conexão não fechada\n",
    "warnings.filterwarnings(\"ignore\", message=\".*Unclosed connection.*\")\n",
    "\n",
    "# Configurar logging do gremlinpython para reduzir verbosidade\n",
    "logging.getLogger('gremlin_python').setLevel(logging.ERROR)\n",
    "\n",
    "\n",
    "@contextmanager\n",
    "def get_gremlin_client():\n",
    "    \"\"\"Context manager para gerenciar conexões Gremlin\"\"\"\n",
    "    client = None\n",
    "    try:\n",
    "        client = Client('ws://localhost:8182/gremlin', 'g2')\n",
    "        yield client\n",
    "    finally:\n",
    "        if client is not None:\n",
    "            try:\n",
    "                client.close()\n",
    "            except Exception as e:\n",
    "                print(f\"Erro ao fechar cliente: {e}\")\n",
    "\n",
    "def insert_pessoas_batch(partition_iterator):\n",
    "    rows = list(partition_iterator)\n",
    "    \n",
    "    with get_gremlin_client() as client:\n",
    "        batch_size = 500\n",
    "        for i in range(0, len(rows), batch_size):\n",
    "            batch = rows[i:i+batch_size]\n",
    "            \n",
    "            commands = []\n",
    "            for row in batch:\n",
    "                cmd = f\"g.addV('Pessoa').property('name', '{row.name}').property('idade', {row.idade})\"\n",
    "                commands.append(cmd)\n",
    "            \n",
    "            if commands:\n",
    "                batch_cmd = \"; \".join(commands)\n",
    "                client.submit(batch_cmd)\n",
    "    \n",
    "    return [len(rows)]\n",
    "\n",
    "\n",
    "# Executar processamento distribuído\n",
    "result = df_pessoas.rdd.mapPartitions(insert_pessoas_batch).collect()"
   ]
  },
  {
   "cell_type": "code",
   "execution_count": 10,
   "id": "c249cf5f-99a4-445c-b854-ad8ee2649452",
   "metadata": {},
   "outputs": [
    {
     "ename": "NameError",
     "evalue": "name 'g2' is not defined",
     "output_type": "error",
     "traceback": [
      "\u001b[0;31m---------------------------------------------------------------------------\u001b[0m",
      "\u001b[0;31mNameError\u001b[0m                                 Traceback (most recent call last)",
      "\u001b[0;32m/tmp/ipykernel_1276738/375445909.py\u001b[0m in \u001b[0;36m<module>\u001b[0;34m\u001b[0m\n\u001b[0;32m----> 1\u001b[0;31m \u001b[0;32mfor\u001b[0m \u001b[0mv\u001b[0m \u001b[0;32min\u001b[0m \u001b[0mg2\u001b[0m\u001b[0;34m.\u001b[0m\u001b[0mV\u001b[0m\u001b[0;34m(\u001b[0m\u001b[0;34m)\u001b[0m\u001b[0;34m.\u001b[0m\u001b[0mvalueMap\u001b[0m\u001b[0;34m(\u001b[0m\u001b[0;32mTrue\u001b[0m\u001b[0;34m)\u001b[0m\u001b[0;34m.\u001b[0m\u001b[0mtoList\u001b[0m\u001b[0;34m(\u001b[0m\u001b[0;34m)\u001b[0m\u001b[0;34m:\u001b[0m\u001b[0;34m\u001b[0m\u001b[0;34m\u001b[0m\u001b[0m\n\u001b[0m\u001b[1;32m      2\u001b[0m     \u001b[0mprint\u001b[0m\u001b[0;34m(\u001b[0m\u001b[0mv\u001b[0m\u001b[0;34m)\u001b[0m\u001b[0;34m\u001b[0m\u001b[0;34m\u001b[0m\u001b[0m\n",
      "\u001b[0;31mNameError\u001b[0m: name 'g2' is not defined"
     ]
    }
   ],
   "source": [
    "for v in g2.V().valueMap(True).toList():\n",
    "    print(v)"
   ]
  },
  {
   "cell_type": "code",
   "execution_count": 12,
   "id": "291c0759-d6e3-4278-bfdd-daae75497804",
   "metadata": {},
   "outputs": [
    {
     "name": "stderr",
     "output_type": "stream",
     "text": [
      "Unclosed connection\n",
      "client_connection: Connection<ConnectionKey(host='localhost', port=8182, is_ssl=False, ssl=True, proxy=None, proxy_auth=None, proxy_headers_hash=None)>\n",
      "                                                                                \r"
     ]
    },
    {
     "data": {
      "text/plain": [
       "['Processadas 1 arestas',\n",
       " 'Processadas 1 arestas',\n",
       " 'Processadas 1 arestas',\n",
       " 'Processadas 1 arestas',\n",
       " 'Processadas 1 arestas',\n",
       " 'Processadas 1 arestas',\n",
       " 'Processadas 1 arestas',\n",
       " 'Processadas 1 arestas']"
      ]
     },
     "execution_count": 12,
     "metadata": {},
     "output_type": "execute_result"
    },
    {
     "name": "stderr",
     "output_type": "stream",
     "text": [
      "Unclosed connection\n",
      "client_connection: Connection<ConnectionKey(host='localhost', port=8182, is_ssl=False, ssl=True, proxy=None, proxy_auth=None, proxy_headers_hash=None)>\n"
     ]
    }
   ],
   "source": [
    "def bulk_load_edges(partition_iterator):\n",
    "    \"\"\"Cria arestas entre vértices existentes\"\"\"\n",
    "    from gremlin_python.driver import client\n",
    "    \n",
    "    client = Client('ws://localhost:8182/gremlin', 'g')\n",
    "    \n",
    "    rows = list(partition_iterator)\n",
    "    \n",
    "    with get_gremlin_client() as client:\n",
    "        for row in rows:\n",
    "            # Criar aresta entre vértices existentes\n",
    "            edge_cmd = f\"\"\"\n",
    "            g.V().has('name', '{row.pessoa1_name}').as('src')\n",
    "             .V().has('name', '{row.pessoa2_name}').as('dst')\n",
    "             .addE('{row.label}').from('src').to('dst')\n",
    "             .property('desde', '{row.desde}')\n",
    "            \"\"\"\n",
    "\n",
    "            try:\n",
    "                client.submit(edge_cmd)\n",
    "            except Exception as e:\n",
    "                print(f\"Erro ao criar aresta: {e}\")\n",
    "    \n",
    "    return [len(rows)]\n",
    "\n",
    "# Executar para DataFrame de arestas\n",
    "df_conhece.rdd.mapPartitions(bulk_load_edges).collect()"
   ]
  },
  {
   "cell_type": "code",
   "execution_count": 407,
   "id": "f0bd69d9-2893-40ee-a3f7-8dbe95cd22d4",
   "metadata": {},
   "outputs": [
    {
     "name": "stdout",
     "output_type": "stream",
     "text": [
      "e[m4h-153c-4r9-1bk8][53256-amigo->61640]\n",
      "e[ohu-189c-4r9-vn4][57360-amigo->41008]\n",
      "e[o3m-189c-4r9-159c][57360-amigo->53472]\n",
      "e[f0j-sgo-3yt-pbk][36888-colega->32816]\n",
      "e[gli-shc-3yt-153c][36912-colega->53256]\n",
      "e[g7a-vn4-3yt-shc][41008-colega->36912]\n",
      "e[g7h-voo-4r9-sgo][41064-amigo->36888]\n",
      "e[qhl-1bk8-4r9-yuo][61640-amigo->45168]\n",
      "e[qvt-1eq0-4r9-yuo][65736-amigo->45168]\n",
      "e[mjg-159c-3yt-1eq0][53472-colega->65736]\n"
     ]
    }
   ],
   "source": [
    "for e in g2.E().limit(10).toList():\n",
    "    print(e)"
   ]
  },
  {
   "cell_type": "code",
   "execution_count": 408,
   "id": "bba5ac07-3d54-4ecb-81c9-ffdc9eaff458",
   "metadata": {},
   "outputs": [],
   "source": [
    "import networkx as nx\n",
    "import matplotlib.pyplot as plt\n",
    "\n",
    "G = nx.DiGraph()\n",
    "\n",
    "vertices = g2.V().valueMap(True).toList()\n",
    "\n",
    "arestas = g2.E().project('from_name', 'to_name', 'edge_props') \\\n",
    "    .by(outV().values('name').fold()) \\\n",
    "    .by(inV().values('name').fold()) \\\n",
    "    .by(valueMap(True)).toList()"
   ]
  },
  {
   "cell_type": "code",
   "execution_count": 409,
   "id": "997783f3-5cda-42a1-8df2-cd6bbc62db38",
   "metadata": {},
   "outputs": [
    {
     "data": {
      "image/png": "[encoded data removed]",
      "text/plain": [
       "<Figure size 432x288 with 1 Axes>"
      ]
     },
     "metadata": {},
     "output_type": "display_data"
    }
   ],
   "source": [
    "for v in vertices:\n",
    "    G.add_node(v['name'][0])\n",
    "    \n",
    "for e in arestas:\n",
    "\n",
    "    G.add_edge(e['from_name'][0], e['to_name'][0], label=e['edge_props'][T.label], desde=e['edge_props'][\"desde\"])\n",
    "    \n",
    "    \n",
    "nx.draw(G, with_labels=True)\n",
    "plt.show()"
   ]
  },
  {
   "cell_type": "code",
   "execution_count": 410,
   "id": "cbd0adc6-e56e-4486-82ab-da5da7384770",
   "metadata": {},
   "outputs": [
    {
     "data": {
      "image/png": "[encoded data removed]",
      "text/plain": [
       "<Figure size 864x576 with 1 Axes>"
      ]
     },
     "metadata": {},
     "output_type": "display_data"
    }
   ],
   "source": [
    "import matplotlib.pyplot as plt\n",
    "\n",
    "# Configurar layout\n",
    "pos = nx.spring_layout(G, seed=42)\n",
    "\n",
    "# Configurar figura\n",
    "plt.figure(figsize=(12, 8))\n",
    "\n",
    "# Desenhar nós\n",
    "nx.draw_networkx_nodes(G, pos, \n",
    "                       node_color='lightblue', \n",
    "                       node_size=2000, \n",
    "                       alpha=0.9)\n",
    "\n",
    "# Desenhar arestas\n",
    "nx.draw_networkx_edges(G, pos, \n",
    "                       edge_color='gray', \n",
    "                       width=2, \n",
    "                       alpha=0.7)\n",
    "\n",
    "# Desenhar labels dos nós\n",
    "nx.draw_networkx_labels(G, pos, \n",
    "                        font_size=12, \n",
    "                        font_weight='bold')\n",
    "\n",
    "# Criar labels das arestas combinando label e propriedade \"desde\"\n",
    "edge_labels = {}\n",
    "for edge in G.edges(data=True):\n",
    "    u, v, attrs = edge\n",
    "    label = attrs.get('label', '')\n",
    "    desde = attrs.get('desde', 'N/A')\n",
    "    edge_labels[(u, v)] = f\"{label}\\n({desde})\"\n",
    "\n",
    "# Desenhar labels das arestas\n",
    "nx.draw_networkx_edge_labels(G, pos, \n",
    "                             edge_labels=edge_labels,\n",
    "                             font_size=9,\n",
    "                             font_color='red',\n",
    "                             bbox=dict(boxstyle='round,pad=0.2', \n",
    "                                      facecolor='white', \n",
    "                                      alpha=0.8))\n",
    "\n",
    "plt.title(\"Grafo com Labels de Arestas (Label + Desde)\", fontsize=16)\n",
    "plt.axis('off')\n",
    "plt.tight_layout()\n",
    "plt.show()"
   ]
  },
  {
   "cell_type": "code",
   "execution_count": 411,
   "id": "6bcc8575-dff6-475e-a9e8-e50d9f703c16",
   "metadata": {},
   "outputs": [
    {
     "data": {
      "text/plain": [
       "['Lucas Silva', 'Lucas']"
      ]
     },
     "execution_count": 411,
     "metadata": {},
     "output_type": "execute_result"
    }
   ],
   "source": [
    "g2.V().has(\"name\", Text.text_prefix(\"Luca\")).values(\"name\").to_list()\n"
   ]
  },
  {
   "cell_type": "code",
   "execution_count": 383,
   "id": "bbcf8cdb-600e-495f-a58a-06894e9ec459",
   "metadata": {},
   "outputs": [
    {
     "data": {
      "text/plain": [
       "[['E'], ['drop'], ['none'], ['values', '_ipython_canary_method_should_not_exist_'], ['values', '_ipython_canary_method_should_not_exist_']]"
      ]
     },
     "execution_count": 390,
     "metadata": {},
     "output_type": "execute_result"
    }
   ],
   "source": [
    "g2.V().drop().iterate()  # remove tudo\n",
    "g2.E().drop().iterate()  "
   ]
  },
  {
   "cell_type": "code",
   "execution_count": 25,
   "id": "f1a05a14-86d8-4ec9-a42d-729758ab5be8",
   "metadata": {},
   "outputs": [
    {
     "name": "stdout",
     "output_type": "stream",
     "text": [
      "0\n"
     ]
    }
   ],
   "source": [
    "from gremlin_python.process.anonymous_traversal import traversal\n",
    "from gremlin_python.driver.driver_remote_connection import DriverRemoteConnection\n",
    "\n",
    "g1 = traversal().withRemote(DriverRemoteConnection('ws://localhost:8182/gremlin', 'g',   message_serializer=JanusGraphSONSerializersV3d0()))\n",
    "print(g1.V().count().next())\n"
   ]
  },
  {
   "cell_type": "code",
   "execution_count": 18,
   "id": "bac09cce-a7fe-4ae3-9a7a-a117b9b42bc9",
   "metadata": {},
   "outputs": [],
   "source": [
    "# Cria vértice com label e propriedades\n",
    "v1 = g1.addV('Pessoa').property('name', 'Lucas').property('idade', 28).next()\n",
    "v2 = g1.addV('Pessoa').property('name', 'Ana').property('idade', 32).next()\n",
    "v3 = g1.addV('Pessoa').property('name', 'João').property('idade', 41).next()\n",
    "\n",
    "e1 = g1.addE('amigo').from_(v1).to(v2).property('desde', 2020).next()\n",
    "\n",
    "e2 = g1.addE('colega').from_(v2).to(v3).property('desde', 2021).next()"
   ]
  },
  {
   "cell_type": "code",
   "execution_count": 19,
   "id": "d44d3194-2bbd-49c7-866b-164e67fdeda9",
   "metadata": {},
   "outputs": [
    {
     "data": {
      "text/plain": [
       "e[8p1-fu0-b2t-6gw][20520-colega2->8384]"
      ]
     },
     "execution_count": 19,
     "metadata": {},
     "output_type": "execute_result"
    }
   ],
   "source": [
    "g1.addE('colega2').from_(v2).to(v3).next()\n"
   ]
  },
  {
   "cell_type": "code",
   "execution_count": 16,
   "id": "ca6f1776-3b79-4601-9a96-aa7141c7173d",
   "metadata": {},
   "outputs": [],
   "source": [
    "v2_check = g1.V(v2.id).hasNext()\n",
    "v3_check = g1.V(v3.id).hasNext()"
   ]
  },
  {
   "cell_type": "code",
   "execution_count": 17,
   "id": "990d162e-ec2a-4435-811a-33f5c3422ff2",
   "metadata": {},
   "outputs": [
    {
     "data": {
      "text/plain": [
       "False"
      ]
     },
     "execution_count": 17,
     "metadata": {},
     "output_type": "execute_result"
    }
   ],
   "source": [
    "v2_check"
   ]
  },
  {
   "cell_type": "code",
   "execution_count": 28,
   "id": "28ca2dce-61f0-4862-b204-8895c0af7ea5",
   "metadata": {},
   "outputs": [
    {
     "name": "stderr",
     "output_type": "stream",
     "text": [
      "\n",
      "Received error message '{'requestId': '0fd166f4-cca8-4e14-a29c-098647990222', 'status': {'message': 'The traversal source [g2] for alias [g] is not configured on the server.', 'code': 499, 'attributes': {}}, 'result': {'data': None, 'meta': {}}}'\n",
      "\n",
      "With results dictionary '{'0fd166f4-cca8-4e14-a29c-098647990222': <gremlin_python.driver.resultset.ResultSet object at 0x7fbc98c9e5c0>}'\n"
     ]
    },
    {
     "ename": "GremlinServerError",
     "evalue": "499: The traversal source [g2] for alias [g] is not configured on the server.",
     "output_type": "error",
     "traceback": [
      "\u001b[0;31m---------------------------------------------------------------------------\u001b[0m",
      "\u001b[0;31mGremlinServerError\u001b[0m                        Traceback (most recent call last)",
      "\u001b[0;32m/tmp/ipykernel_1383689/1130586990.py\u001b[0m in \u001b[0;36m<module>\u001b[0;34m\u001b[0m\n\u001b[1;32m      3\u001b[0m \u001b[0;34m\u001b[0m\u001b[0m\n\u001b[1;32m      4\u001b[0m \u001b[0mg1\u001b[0m \u001b[0;34m=\u001b[0m \u001b[0mtraversal\u001b[0m\u001b[0;34m(\u001b[0m\u001b[0;34m)\u001b[0m\u001b[0;34m.\u001b[0m\u001b[0mwithRemote\u001b[0m\u001b[0;34m(\u001b[0m\u001b[0mDriverRemoteConnection\u001b[0m\u001b[0;34m(\u001b[0m\u001b[0;34m'ws://localhost:58110/gremlin'\u001b[0m\u001b[0;34m,\u001b[0m \u001b[0;34m'g2'\u001b[0m\u001b[0;34m,\u001b[0m   \u001b[0mmessage_serializer\u001b[0m\u001b[0;34m=\u001b[0m\u001b[0mJanusGraphSONSerializersV3d0\u001b[0m\u001b[0;34m(\u001b[0m\u001b[0;34m)\u001b[0m\u001b[0;34m)\u001b[0m\u001b[0;34m)\u001b[0m\u001b[0;34m\u001b[0m\u001b[0;34m\u001b[0m\u001b[0m\n\u001b[0;32m----> 5\u001b[0;31m \u001b[0mprint\u001b[0m\u001b[0;34m(\u001b[0m\u001b[0mg1\u001b[0m\u001b[0;34m.\u001b[0m\u001b[0mV\u001b[0m\u001b[0;34m(\u001b[0m\u001b[0;34m)\u001b[0m\u001b[0;34m.\u001b[0m\u001b[0mcount\u001b[0m\u001b[0;34m(\u001b[0m\u001b[0;34m)\u001b[0m\u001b[0;34m.\u001b[0m\u001b[0mnext\u001b[0m\u001b[0;34m(\u001b[0m\u001b[0;34m)\u001b[0m\u001b[0;34m)\u001b[0m\u001b[0;34m\u001b[0m\u001b[0;34m\u001b[0m\u001b[0m\n\u001b[0m",
      "\u001b[0;32m~/.local/lib/python3.10/site-packages/gremlin_python/process/traversal.py\u001b[0m in \u001b[0;36mnext\u001b[0;34m(self, amount)\u001b[0m\n\u001b[1;32m    115\u001b[0m     \u001b[0;32mdef\u001b[0m \u001b[0mnext\u001b[0m\u001b[0;34m(\u001b[0m\u001b[0mself\u001b[0m\u001b[0;34m,\u001b[0m \u001b[0mamount\u001b[0m\u001b[0;34m=\u001b[0m\u001b[0;32mNone\u001b[0m\u001b[0;34m)\u001b[0m\u001b[0;34m:\u001b[0m\u001b[0;34m\u001b[0m\u001b[0;34m\u001b[0m\u001b[0m\n\u001b[1;32m    116\u001b[0m         \u001b[0;32mif\u001b[0m \u001b[0mamount\u001b[0m \u001b[0;32mis\u001b[0m \u001b[0;32mNone\u001b[0m\u001b[0;34m:\u001b[0m\u001b[0;34m\u001b[0m\u001b[0;34m\u001b[0m\u001b[0m\n\u001b[0;32m--> 117\u001b[0;31m             \u001b[0;32mreturn\u001b[0m \u001b[0mself\u001b[0m\u001b[0;34m.\u001b[0m\u001b[0m__next__\u001b[0m\u001b[0;34m(\u001b[0m\u001b[0;34m)\u001b[0m\u001b[0;34m\u001b[0m\u001b[0;34m\u001b[0m\u001b[0m\n\u001b[0m\u001b[1;32m    118\u001b[0m         \u001b[0;32melse\u001b[0m\u001b[0;34m:\u001b[0m\u001b[0;34m\u001b[0m\u001b[0;34m\u001b[0m\u001b[0m\n\u001b[1;32m    119\u001b[0m             \u001b[0mcount\u001b[0m \u001b[0;34m=\u001b[0m \u001b[0;36m0\u001b[0m\u001b[0;34m\u001b[0m\u001b[0;34m\u001b[0m\u001b[0m\n",
      "\u001b[0;32m~/.local/lib/python3.10/site-packages/gremlin_python/process/traversal.py\u001b[0m in \u001b[0;36m__next__\u001b[0;34m(self)\u001b[0m\n\u001b[1;32m     46\u001b[0m     \u001b[0;32mdef\u001b[0m \u001b[0m__next__\u001b[0m\u001b[0;34m(\u001b[0m\u001b[0mself\u001b[0m\u001b[0;34m)\u001b[0m\u001b[0;34m:\u001b[0m\u001b[0;34m\u001b[0m\u001b[0;34m\u001b[0m\u001b[0m\n\u001b[1;32m     47\u001b[0m         \u001b[0;32mif\u001b[0m \u001b[0mself\u001b[0m\u001b[0;34m.\u001b[0m\u001b[0mtraversers\u001b[0m \u001b[0;32mis\u001b[0m \u001b[0;32mNone\u001b[0m\u001b[0;34m:\u001b[0m\u001b[0;34m\u001b[0m\u001b[0;34m\u001b[0m\u001b[0m\n\u001b[0;32m---> 48\u001b[0;31m             \u001b[0mself\u001b[0m\u001b[0;34m.\u001b[0m\u001b[0mtraversal_strategies\u001b[0m\u001b[0;34m.\u001b[0m\u001b[0mapply_strategies\u001b[0m\u001b[0;34m(\u001b[0m\u001b[0mself\u001b[0m\u001b[0;34m)\u001b[0m\u001b[0;34m\u001b[0m\u001b[0;34m\u001b[0m\u001b[0m\n\u001b[0m\u001b[1;32m     49\u001b[0m         \u001b[0;32mif\u001b[0m \u001b[0mself\u001b[0m\u001b[0;34m.\u001b[0m\u001b[0mlast_traverser\u001b[0m \u001b[0;32mis\u001b[0m \u001b[0;32mNone\u001b[0m\u001b[0;34m:\u001b[0m\u001b[0;34m\u001b[0m\u001b[0;34m\u001b[0m\u001b[0m\n\u001b[1;32m     50\u001b[0m             \u001b[0mself\u001b[0m\u001b[0;34m.\u001b[0m\u001b[0mlast_traverser\u001b[0m \u001b[0;34m=\u001b[0m \u001b[0mnext\u001b[0m\u001b[0;34m(\u001b[0m\u001b[0mself\u001b[0m\u001b[0;34m.\u001b[0m\u001b[0mtraversers\u001b[0m\u001b[0;34m)\u001b[0m\u001b[0;34m\u001b[0m\u001b[0;34m\u001b[0m\u001b[0m\n",
      "\u001b[0;32m~/.local/lib/python3.10/site-packages/gremlin_python/process/traversal.py\u001b[0m in \u001b[0;36mapply_strategies\u001b[0;34m(self, traversal)\u001b[0m\n\u001b[1;32m    699\u001b[0m     \u001b[0;32mdef\u001b[0m \u001b[0mapply_strategies\u001b[0m\u001b[0;34m(\u001b[0m\u001b[0mself\u001b[0m\u001b[0;34m,\u001b[0m \u001b[0mtraversal\u001b[0m\u001b[0;34m)\u001b[0m\u001b[0;34m:\u001b[0m\u001b[0;34m\u001b[0m\u001b[0;34m\u001b[0m\u001b[0m\n\u001b[1;32m    700\u001b[0m         \u001b[0;32mfor\u001b[0m \u001b[0mtraversal_strategy\u001b[0m \u001b[0;32min\u001b[0m \u001b[0mself\u001b[0m\u001b[0;34m.\u001b[0m\u001b[0mtraversal_strategies\u001b[0m\u001b[0;34m:\u001b[0m\u001b[0;34m\u001b[0m\u001b[0;34m\u001b[0m\u001b[0m\n\u001b[0;32m--> 701\u001b[0;31m             \u001b[0mtraversal_strategy\u001b[0m\u001b[0;34m.\u001b[0m\u001b[0mapply\u001b[0m\u001b[0;34m(\u001b[0m\u001b[0mtraversal\u001b[0m\u001b[0;34m)\u001b[0m\u001b[0;34m\u001b[0m\u001b[0;34m\u001b[0m\u001b[0m\n\u001b[0m\u001b[1;32m    702\u001b[0m \u001b[0;34m\u001b[0m\u001b[0m\n\u001b[1;32m    703\u001b[0m     \u001b[0;32mdef\u001b[0m \u001b[0mapply_async_strategies\u001b[0m\u001b[0;34m(\u001b[0m\u001b[0mself\u001b[0m\u001b[0;34m,\u001b[0m \u001b[0mtraversal\u001b[0m\u001b[0;34m)\u001b[0m\u001b[0;34m:\u001b[0m\u001b[0;34m\u001b[0m\u001b[0;34m\u001b[0m\u001b[0m\n",
      "\u001b[0;32m~/.local/lib/python3.10/site-packages/gremlin_python/driver/remote_connection.py\u001b[0m in \u001b[0;36mapply\u001b[0;34m(self, traversal)\u001b[0m\n\u001b[1;32m     76\u001b[0m     \u001b[0;32mdef\u001b[0m \u001b[0mapply\u001b[0m\u001b[0;34m(\u001b[0m\u001b[0mself\u001b[0m\u001b[0;34m,\u001b[0m \u001b[0mtraversal\u001b[0m\u001b[0;34m)\u001b[0m\u001b[0;34m:\u001b[0m\u001b[0;34m\u001b[0m\u001b[0;34m\u001b[0m\u001b[0m\n\u001b[1;32m     77\u001b[0m         \u001b[0;32mif\u001b[0m \u001b[0mtraversal\u001b[0m\u001b[0;34m.\u001b[0m\u001b[0mtraversers\u001b[0m \u001b[0;32mis\u001b[0m \u001b[0;32mNone\u001b[0m\u001b[0;34m:\u001b[0m\u001b[0;34m\u001b[0m\u001b[0;34m\u001b[0m\u001b[0m\n\u001b[0;32m---> 78\u001b[0;31m             \u001b[0mremote_traversal\u001b[0m \u001b[0;34m=\u001b[0m \u001b[0mself\u001b[0m\u001b[0;34m.\u001b[0m\u001b[0mremote_connection\u001b[0m\u001b[0;34m.\u001b[0m\u001b[0msubmit\u001b[0m\u001b[0;34m(\u001b[0m\u001b[0mtraversal\u001b[0m\u001b[0;34m.\u001b[0m\u001b[0mbytecode\u001b[0m\u001b[0;34m)\u001b[0m\u001b[0;34m\u001b[0m\u001b[0;34m\u001b[0m\u001b[0m\n\u001b[0m\u001b[1;32m     79\u001b[0m             \u001b[0mtraversal\u001b[0m\u001b[0;34m.\u001b[0m\u001b[0mremote_results\u001b[0m \u001b[0;34m=\u001b[0m \u001b[0mremote_traversal\u001b[0m\u001b[0;34m\u001b[0m\u001b[0;34m\u001b[0m\u001b[0m\n\u001b[1;32m     80\u001b[0m             \u001b[0mtraversal\u001b[0m\u001b[0;34m.\u001b[0m\u001b[0mtraversers\u001b[0m \u001b[0;34m=\u001b[0m \u001b[0mremote_traversal\u001b[0m\u001b[0;34m.\u001b[0m\u001b[0mtraversers\u001b[0m\u001b[0;34m\u001b[0m\u001b[0;34m\u001b[0m\u001b[0m\n",
      "\u001b[0;32m~/.local/lib/python3.10/site-packages/gremlin_python/driver/driver_remote_connection.py\u001b[0m in \u001b[0;36msubmit\u001b[0;34m(self, bytecode)\u001b[0m\n\u001b[1;32m    105\u001b[0m         \u001b[0mlog\u001b[0m\u001b[0;34m.\u001b[0m\u001b[0mdebug\u001b[0m\u001b[0;34m(\u001b[0m\u001b[0;34m\"submit with bytecode '%s'\"\u001b[0m\u001b[0;34m,\u001b[0m \u001b[0mstr\u001b[0m\u001b[0;34m(\u001b[0m\u001b[0mbytecode\u001b[0m\u001b[0;34m)\u001b[0m\u001b[0;34m)\u001b[0m\u001b[0;34m\u001b[0m\u001b[0;34m\u001b[0m\u001b[0m\n\u001b[1;32m    106\u001b[0m         \u001b[0mresult_set\u001b[0m \u001b[0;34m=\u001b[0m \u001b[0mself\u001b[0m\u001b[0;34m.\u001b[0m\u001b[0m_client\u001b[0m\u001b[0;34m.\u001b[0m\u001b[0msubmit\u001b[0m\u001b[0;34m(\u001b[0m\u001b[0mbytecode\u001b[0m\u001b[0;34m,\u001b[0m \u001b[0mrequest_options\u001b[0m\u001b[0;34m=\u001b[0m\u001b[0mself\u001b[0m\u001b[0;34m.\u001b[0m\u001b[0m_extract_request_options\u001b[0m\u001b[0;34m(\u001b[0m\u001b[0mbytecode\u001b[0m\u001b[0;34m)\u001b[0m\u001b[0;34m)\u001b[0m\u001b[0;34m\u001b[0m\u001b[0;34m\u001b[0m\u001b[0m\n\u001b[0;32m--> 107\u001b[0;31m         \u001b[0mresults\u001b[0m \u001b[0;34m=\u001b[0m \u001b[0mresult_set\u001b[0m\u001b[0;34m.\u001b[0m\u001b[0mall\u001b[0m\u001b[0;34m(\u001b[0m\u001b[0;34m)\u001b[0m\u001b[0;34m.\u001b[0m\u001b[0mresult\u001b[0m\u001b[0;34m(\u001b[0m\u001b[0;34m)\u001b[0m\u001b[0;34m\u001b[0m\u001b[0;34m\u001b[0m\u001b[0m\n\u001b[0m\u001b[1;32m    108\u001b[0m         \u001b[0;32mreturn\u001b[0m \u001b[0mRemoteTraversal\u001b[0m\u001b[0;34m(\u001b[0m\u001b[0miter\u001b[0m\u001b[0;34m(\u001b[0m\u001b[0mresults\u001b[0m\u001b[0;34m)\u001b[0m\u001b[0;34m)\u001b[0m\u001b[0;34m\u001b[0m\u001b[0;34m\u001b[0m\u001b[0m\n\u001b[1;32m    109\u001b[0m \u001b[0;34m\u001b[0m\u001b[0m\n",
      "\u001b[0;32m/usr/lib/python3.10/concurrent/futures/_base.py\u001b[0m in \u001b[0;36mresult\u001b[0;34m(self, timeout)\u001b[0m\n\u001b[1;32m    456\u001b[0m                     \u001b[0;32mraise\u001b[0m \u001b[0mCancelledError\u001b[0m\u001b[0;34m(\u001b[0m\u001b[0;34m)\u001b[0m\u001b[0;34m\u001b[0m\u001b[0;34m\u001b[0m\u001b[0m\n\u001b[1;32m    457\u001b[0m                 \u001b[0;32melif\u001b[0m \u001b[0mself\u001b[0m\u001b[0;34m.\u001b[0m\u001b[0m_state\u001b[0m \u001b[0;34m==\u001b[0m \u001b[0mFINISHED\u001b[0m\u001b[0;34m:\u001b[0m\u001b[0;34m\u001b[0m\u001b[0;34m\u001b[0m\u001b[0m\n\u001b[0;32m--> 458\u001b[0;31m                     \u001b[0;32mreturn\u001b[0m \u001b[0mself\u001b[0m\u001b[0;34m.\u001b[0m\u001b[0m__get_result\u001b[0m\u001b[0;34m(\u001b[0m\u001b[0;34m)\u001b[0m\u001b[0;34m\u001b[0m\u001b[0;34m\u001b[0m\u001b[0m\n\u001b[0m\u001b[1;32m    459\u001b[0m                 \u001b[0;32melse\u001b[0m\u001b[0;34m:\u001b[0m\u001b[0;34m\u001b[0m\u001b[0;34m\u001b[0m\u001b[0m\n\u001b[1;32m    460\u001b[0m                     \u001b[0;32mraise\u001b[0m \u001b[0mTimeoutError\u001b[0m\u001b[0;34m(\u001b[0m\u001b[0;34m)\u001b[0m\u001b[0;34m\u001b[0m\u001b[0;34m\u001b[0m\u001b[0m\n",
      "\u001b[0;32m/usr/lib/python3.10/concurrent/futures/_base.py\u001b[0m in \u001b[0;36m__get_result\u001b[0;34m(self)\u001b[0m\n\u001b[1;32m    401\u001b[0m         \u001b[0;32mif\u001b[0m \u001b[0mself\u001b[0m\u001b[0;34m.\u001b[0m\u001b[0m_exception\u001b[0m\u001b[0;34m:\u001b[0m\u001b[0;34m\u001b[0m\u001b[0;34m\u001b[0m\u001b[0m\n\u001b[1;32m    402\u001b[0m             \u001b[0;32mtry\u001b[0m\u001b[0;34m:\u001b[0m\u001b[0;34m\u001b[0m\u001b[0;34m\u001b[0m\u001b[0m\n\u001b[0;32m--> 403\u001b[0;31m                 \u001b[0;32mraise\u001b[0m \u001b[0mself\u001b[0m\u001b[0;34m.\u001b[0m\u001b[0m_exception\u001b[0m\u001b[0;34m\u001b[0m\u001b[0;34m\u001b[0m\u001b[0m\n\u001b[0m\u001b[1;32m    404\u001b[0m             \u001b[0;32mfinally\u001b[0m\u001b[0;34m:\u001b[0m\u001b[0;34m\u001b[0m\u001b[0;34m\u001b[0m\u001b[0m\n\u001b[1;32m    405\u001b[0m                 \u001b[0;31m# Break a reference cycle with the exception in self._exception\u001b[0m\u001b[0;34m\u001b[0m\u001b[0;34m\u001b[0m\u001b[0m\n",
      "\u001b[0;32m~/.local/lib/python3.10/site-packages/gremlin_python/driver/resultset.py\u001b[0m in \u001b[0;36mcb\u001b[0;34m(f)\u001b[0m\n\u001b[1;32m     88\u001b[0m         \u001b[0;32mdef\u001b[0m \u001b[0mcb\u001b[0m\u001b[0;34m(\u001b[0m\u001b[0mf\u001b[0m\u001b[0;34m)\u001b[0m\u001b[0;34m:\u001b[0m\u001b[0;34m\u001b[0m\u001b[0;34m\u001b[0m\u001b[0m\n\u001b[1;32m     89\u001b[0m             \u001b[0;32mtry\u001b[0m\u001b[0;34m:\u001b[0m\u001b[0;34m\u001b[0m\u001b[0;34m\u001b[0m\u001b[0m\n\u001b[0;32m---> 90\u001b[0;31m                 \u001b[0mf\u001b[0m\u001b[0;34m.\u001b[0m\u001b[0mresult\u001b[0m\u001b[0;34m(\u001b[0m\u001b[0;34m)\u001b[0m\u001b[0;34m\u001b[0m\u001b[0;34m\u001b[0m\u001b[0m\n\u001b[0m\u001b[1;32m     91\u001b[0m             \u001b[0;32mexcept\u001b[0m \u001b[0mException\u001b[0m \u001b[0;32mas\u001b[0m \u001b[0me\u001b[0m\u001b[0;34m:\u001b[0m\u001b[0;34m\u001b[0m\u001b[0;34m\u001b[0m\u001b[0m\n\u001b[1;32m     92\u001b[0m                 \u001b[0mfuture\u001b[0m\u001b[0;34m.\u001b[0m\u001b[0mset_exception\u001b[0m\u001b[0;34m(\u001b[0m\u001b[0me\u001b[0m\u001b[0;34m)\u001b[0m\u001b[0;34m\u001b[0m\u001b[0;34m\u001b[0m\u001b[0m\n",
      "\u001b[0;32m/usr/lib/python3.10/concurrent/futures/_base.py\u001b[0m in \u001b[0;36mresult\u001b[0;34m(self, timeout)\u001b[0m\n\u001b[1;32m    449\u001b[0m                     \u001b[0;32mraise\u001b[0m \u001b[0mCancelledError\u001b[0m\u001b[0;34m(\u001b[0m\u001b[0;34m)\u001b[0m\u001b[0;34m\u001b[0m\u001b[0;34m\u001b[0m\u001b[0m\n\u001b[1;32m    450\u001b[0m                 \u001b[0;32melif\u001b[0m \u001b[0mself\u001b[0m\u001b[0;34m.\u001b[0m\u001b[0m_state\u001b[0m \u001b[0;34m==\u001b[0m \u001b[0mFINISHED\u001b[0m\u001b[0;34m:\u001b[0m\u001b[0;34m\u001b[0m\u001b[0;34m\u001b[0m\u001b[0m\n\u001b[0;32m--> 451\u001b[0;31m                     \u001b[0;32mreturn\u001b[0m \u001b[0mself\u001b[0m\u001b[0;34m.\u001b[0m\u001b[0m__get_result\u001b[0m\u001b[0;34m(\u001b[0m\u001b[0;34m)\u001b[0m\u001b[0;34m\u001b[0m\u001b[0;34m\u001b[0m\u001b[0m\n\u001b[0m\u001b[1;32m    452\u001b[0m \u001b[0;34m\u001b[0m\u001b[0m\n\u001b[1;32m    453\u001b[0m                 \u001b[0mself\u001b[0m\u001b[0;34m.\u001b[0m\u001b[0m_condition\u001b[0m\u001b[0;34m.\u001b[0m\u001b[0mwait\u001b[0m\u001b[0;34m(\u001b[0m\u001b[0mtimeout\u001b[0m\u001b[0;34m)\u001b[0m\u001b[0;34m\u001b[0m\u001b[0;34m\u001b[0m\u001b[0m\n",
      "\u001b[0;32m/usr/lib/python3.10/concurrent/futures/_base.py\u001b[0m in \u001b[0;36m__get_result\u001b[0;34m(self)\u001b[0m\n\u001b[1;32m    401\u001b[0m         \u001b[0;32mif\u001b[0m \u001b[0mself\u001b[0m\u001b[0;34m.\u001b[0m\u001b[0m_exception\u001b[0m\u001b[0;34m:\u001b[0m\u001b[0;34m\u001b[0m\u001b[0;34m\u001b[0m\u001b[0m\n\u001b[1;32m    402\u001b[0m             \u001b[0;32mtry\u001b[0m\u001b[0;34m:\u001b[0m\u001b[0;34m\u001b[0m\u001b[0;34m\u001b[0m\u001b[0m\n\u001b[0;32m--> 403\u001b[0;31m                 \u001b[0;32mraise\u001b[0m \u001b[0mself\u001b[0m\u001b[0;34m.\u001b[0m\u001b[0m_exception\u001b[0m\u001b[0;34m\u001b[0m\u001b[0;34m\u001b[0m\u001b[0m\n\u001b[0m\u001b[1;32m    404\u001b[0m             \u001b[0;32mfinally\u001b[0m\u001b[0;34m:\u001b[0m\u001b[0;34m\u001b[0m\u001b[0;34m\u001b[0m\u001b[0m\n\u001b[1;32m    405\u001b[0m                 \u001b[0;31m# Break a reference cycle with the exception in self._exception\u001b[0m\u001b[0;34m\u001b[0m\u001b[0;34m\u001b[0m\u001b[0m\n",
      "\u001b[0;32m/usr/lib/python3.10/concurrent/futures/thread.py\u001b[0m in \u001b[0;36mrun\u001b[0;34m(self)\u001b[0m\n\u001b[1;32m     56\u001b[0m \u001b[0;34m\u001b[0m\u001b[0m\n\u001b[1;32m     57\u001b[0m         \u001b[0;32mtry\u001b[0m\u001b[0;34m:\u001b[0m\u001b[0;34m\u001b[0m\u001b[0;34m\u001b[0m\u001b[0m\n\u001b[0;32m---> 58\u001b[0;31m             \u001b[0mresult\u001b[0m \u001b[0;34m=\u001b[0m \u001b[0mself\u001b[0m\u001b[0;34m.\u001b[0m\u001b[0mfn\u001b[0m\u001b[0;34m(\u001b[0m\u001b[0;34m*\u001b[0m\u001b[0mself\u001b[0m\u001b[0;34m.\u001b[0m\u001b[0margs\u001b[0m\u001b[0;34m,\u001b[0m \u001b[0;34m**\u001b[0m\u001b[0mself\u001b[0m\u001b[0;34m.\u001b[0m\u001b[0mkwargs\u001b[0m\u001b[0;34m)\u001b[0m\u001b[0;34m\u001b[0m\u001b[0;34m\u001b[0m\u001b[0m\n\u001b[0m\u001b[1;32m     59\u001b[0m         \u001b[0;32mexcept\u001b[0m \u001b[0mBaseException\u001b[0m \u001b[0;32mas\u001b[0m \u001b[0mexc\u001b[0m\u001b[0;34m:\u001b[0m\u001b[0;34m\u001b[0m\u001b[0;34m\u001b[0m\u001b[0m\n\u001b[1;32m     60\u001b[0m             \u001b[0mself\u001b[0m\u001b[0;34m.\u001b[0m\u001b[0mfuture\u001b[0m\u001b[0;34m.\u001b[0m\u001b[0mset_exception\u001b[0m\u001b[0;34m(\u001b[0m\u001b[0mexc\u001b[0m\u001b[0;34m)\u001b[0m\u001b[0;34m\u001b[0m\u001b[0;34m\u001b[0m\u001b[0m\n",
      "\u001b[0;32m~/.local/lib/python3.10/site-packages/gremlin_python/driver/connection.py\u001b[0m in \u001b[0;36m_receive\u001b[0;34m(self)\u001b[0m\n\u001b[1;32m     88\u001b[0m             \u001b[0;32mwhile\u001b[0m \u001b[0;32mTrue\u001b[0m\u001b[0;34m:\u001b[0m\u001b[0;34m\u001b[0m\u001b[0;34m\u001b[0m\u001b[0m\n\u001b[1;32m     89\u001b[0m                 \u001b[0mdata\u001b[0m \u001b[0;34m=\u001b[0m \u001b[0mself\u001b[0m\u001b[0;34m.\u001b[0m\u001b[0m_transport\u001b[0m\u001b[0;34m.\u001b[0m\u001b[0mread\u001b[0m\u001b[0;34m(\u001b[0m\u001b[0;34m)\u001b[0m\u001b[0;34m\u001b[0m\u001b[0;34m\u001b[0m\u001b[0m\n\u001b[0;32m---> 90\u001b[0;31m                 \u001b[0mstatus_code\u001b[0m \u001b[0;34m=\u001b[0m \u001b[0mself\u001b[0m\u001b[0;34m.\u001b[0m\u001b[0m_protocol\u001b[0m\u001b[0;34m.\u001b[0m\u001b[0mdata_received\u001b[0m\u001b[0;34m(\u001b[0m\u001b[0mdata\u001b[0m\u001b[0;34m,\u001b[0m \u001b[0mself\u001b[0m\u001b[0;34m.\u001b[0m\u001b[0m_results\u001b[0m\u001b[0;34m)\u001b[0m\u001b[0;34m\u001b[0m\u001b[0;34m\u001b[0m\u001b[0m\n\u001b[0m\u001b[1;32m     91\u001b[0m                 \u001b[0;32mif\u001b[0m \u001b[0mstatus_code\u001b[0m \u001b[0;34m!=\u001b[0m \u001b[0;36m206\u001b[0m\u001b[0;34m:\u001b[0m\u001b[0;34m\u001b[0m\u001b[0;34m\u001b[0m\u001b[0m\n\u001b[1;32m     92\u001b[0m                     \u001b[0;32mbreak\u001b[0m\u001b[0;34m\u001b[0m\u001b[0;34m\u001b[0m\u001b[0m\n",
      "\u001b[0;32m~/.local/lib/python3.10/site-packages/gremlin_python/driver/protocol.py\u001b[0m in \u001b[0;36mdata_received\u001b[0;34m(self, message, results_dict)\u001b[0m\n\u001b[1;32m    138\u001b[0m                       str(message), str(results_dict))\n\u001b[1;32m    139\u001b[0m             \u001b[0;32mdel\u001b[0m \u001b[0mresults_dict\u001b[0m\u001b[0;34m[\u001b[0m\u001b[0mrequest_id\u001b[0m\u001b[0;34m]\u001b[0m\u001b[0;34m\u001b[0m\u001b[0;34m\u001b[0m\u001b[0m\n\u001b[0;32m--> 140\u001b[0;31m             \u001b[0;32mraise\u001b[0m \u001b[0mGremlinServerError\u001b[0m\u001b[0;34m(\u001b[0m\u001b[0mmessage\u001b[0m\u001b[0;34m[\u001b[0m\u001b[0;34m'status'\u001b[0m\u001b[0;34m]\u001b[0m\u001b[0;34m)\u001b[0m\u001b[0;34m\u001b[0m\u001b[0;34m\u001b[0m\u001b[0m\n\u001b[0m\u001b[1;32m    141\u001b[0m \u001b[0;34m\u001b[0m\u001b[0m\n\u001b[1;32m    142\u001b[0m     \u001b[0;32mdef\u001b[0m \u001b[0m_kerberos_received\u001b[0m\u001b[0;34m(\u001b[0m\u001b[0mself\u001b[0m\u001b[0;34m,\u001b[0m \u001b[0mmessage\u001b[0m\u001b[0;34m)\u001b[0m\u001b[0;34m:\u001b[0m\u001b[0;34m\u001b[0m\u001b[0;34m\u001b[0m\u001b[0m\n",
      "\u001b[0;31mGremlinServerError\u001b[0m: 499: The traversal source [g2] for alias [g] is not configured on the server."
     ]
    }
   ],
   "source": [
    "from gremlin_python.process.anonymous_traversal import traversal\n",
    "from gremlin_python.driver.driver_remote_connection import DriverRemoteConnection\n",
    "\n",
    "g1 = traversal().withRemote(DriverRemoteConnection('ws://localhost:58110/gremlin', 'g2',   message_serializer=JanusGraphSONSerializersV3d0()))\n",
    "print(g1.V().count().next())"
   ]
  },
  {
   "cell_type": "code",
   "execution_count": 11,
   "id": "31abe8a6-b29e-4c8f-a4b7-d6e8dbfe5372",
   "metadata": {},
   "outputs": [
    {
     "name": "stdout",
     "output_type": "stream",
     "text": [
      "curl: (56) Recv failure: Conexão fechada pela outra ponta\n"
     ]
    }
   ],
   "source": [
    "! curl http://localhost:8182"
   ]
  },
  {
   "cell_type": "code",
   "execution_count": 25,
   "id": "be61d08b-4b8b-4120-b2ef-3eb36629b87b",
   "metadata": {},
   "outputs": [
    {
     "name": "stdout",
     "output_type": "stream",
     "text": [
      "0\n",
      "0\n"
     ]
    }
   ],
   "source": [
    "from gremlin_python.process.anonymous_traversal import traversal\n",
    "from gremlin_python.driver.driver_remote_connection import DriverRemoteConnection\n",
    "\n",
    "\n",
    "g1 = traversal().withRemote(DriverRemoteConnection('ws://localhost:8182/gremlin', 'g1',   message_serializer=JanusGraphSONSerializersV3d0()))\n",
    "print(g1.V().count().next())\n",
    "\n",
    "g2 = traversal().withRemote(DriverRemoteConnection('ws://localhost:8182/gremlin', 'g2',   message_serializer=JanusGraphSONSerializersV3d0()))\n",
    "print(g2.V().count().next())"
   ]
  },
  {
   "cell_type": "code",
   "execution_count": 34,
   "id": "a4e27195-8100-4ab5-af72-82dc41e1fd93",
   "metadata": {},
   "outputs": [
    {
     "name": "stdout",
     "output_type": "stream",
     "text": [
      "Grafo g1 - vértices: [0]\n",
      "Grafo g2 - vértices: [0]\n"
     ]
    }
   ],
   "source": [
    "from gremlin_python.driver.client import Client\n",
    "\n",
    "try:\n",
    "    # Testar conectividade com g1\n",
    "    client1 = Client('ws://localhost:58110/gremlin', 'g1')\n",
    "    result1 = client1.submit(\"g1.V().count()\").all().result()\n",
    "    print(f\"Grafo g1 - vértices: {result1}\")\n",
    "    \n",
    "    # Testar conectividade com g2  \n",
    "    client2 = Client('ws://localhost:58110/gremlin', 'g2')\n",
    "    result2 = client2.submit(\"g2.V().count()\").all().result()\n",
    "    print(f\"Grafo g2 - vértices: {result2}\")\n",
    "    \n",
    "    client1.close()\n",
    "    client2.close()\n",
    "    \n",
    "except Exception as e:\n",
    "    print(f\"Erro: {e}\")"
   ]
  },
  {
   "cell_type": "code",
   "execution_count": null,
   "id": "7ed722b3-131d-43dd-af43-36a81b3397be",
   "metadata": {},
   "outputs": [],
   "source": []
  }
 ],
 "metadata": {
  "kernelspec": {
   "display_name": "Python 3 (ipykernel)",
   "language": "python",
   "name": "python3"
  },
  "language_info": {
   "codemirror_mode": {
    "name": "ipython",
    "version": 3
   },
   "file_extension": ".py",
   "mimetype": "text/x-python",
   "name": "python",
   "nbconvert_exporter": "python",
   "pygments_lexer": "ipython3",
   "version": "3.10.12"
  }
 },
 "nbformat": 4,
 "nbformat_minor": 5
}
