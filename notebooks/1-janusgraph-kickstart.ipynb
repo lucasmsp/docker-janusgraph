{
 "cells": [
  {
   "cell_type": "code",
   "execution_count": 360,
   "id": "8d0e52c2-2f15-4aaa-83f4-99694eda082c",
   "metadata": {},
   "outputs": [
    {
     "name": "stdout",
     "output_type": "stream",
     "text": [
      "Defaulting to user installation because normal site-packages is not writeable\n",
      "Collecting janusgraphpython==1.1.1\n",
      "  Downloading janusgraphpython-1.1.1-py3-none-any.whl.metadata (5.5 kB)\n",
      "Collecting gremlinpython==3.7.3 (from janusgraphpython==1.1.1)\n",
      "  Downloading gremlinpython-3.7.3-py3-none-any.whl.metadata (6.4 kB)\n",
      "Requirement already satisfied: nest-asyncio in /home/lucasmsp/.local/lib/python3.10/site-packages (from gremlinpython==3.7.3->janusgraphpython==1.1.1) (1.5.6)\n",
      "Requirement already satisfied: aiohttp<4.0.0,>=3.8.0 in /home/lucasmsp/.local/lib/python3.10/site-packages (from gremlinpython==3.7.3->janusgraphpython==1.1.1) (3.11.11)\n",
      "Requirement already satisfied: aenum<4.0.0,>=1.4.5 in /home/lucasmsp/.local/lib/python3.10/site-packages (from gremlinpython==3.7.3->janusgraphpython==1.1.1) (3.1.16)\n",
      "Requirement already satisfied: isodate<1.0.0,>=0.6.0 in /home/lucasmsp/.local/lib/python3.10/site-packages (from gremlinpython==3.7.3->janusgraphpython==1.1.1) (0.7.2)\n",
      "Requirement already satisfied: async-timeout<5.0.0,>=4.0.3 in /home/lucasmsp/.local/lib/python3.10/site-packages (from gremlinpython==3.7.3->janusgraphpython==1.1.1) (4.0.3)\n",
      "Requirement already satisfied: aiohappyeyeballs>=2.3.0 in /home/lucasmsp/.local/lib/python3.10/site-packages (from aiohttp<4.0.0,>=3.8.0->gremlinpython==3.7.3->janusgraphpython==1.1.1) (2.4.4)\n",
      "Requirement already satisfied: aiosignal>=1.1.2 in /home/lucasmsp/.local/lib/python3.10/site-packages (from aiohttp<4.0.0,>=3.8.0->gremlinpython==3.7.3->janusgraphpython==1.1.1) (1.3.2)\n",
      "Requirement already satisfied: attrs>=17.3.0 in /home/lucasmsp/.local/lib/python3.10/site-packages (from aiohttp<4.0.0,>=3.8.0->gremlinpython==3.7.3->janusgraphpython==1.1.1) (25.3.0)\n",
      "Requirement already satisfied: frozenlist>=1.1.1 in /home/lucasmsp/.local/lib/python3.10/site-packages (from aiohttp<4.0.0,>=3.8.0->gremlinpython==3.7.3->janusgraphpython==1.1.1) (1.5.0)\n",
      "Requirement already satisfied: multidict<7.0,>=4.5 in /home/lucasmsp/.local/lib/python3.10/site-packages (from aiohttp<4.0.0,>=3.8.0->gremlinpython==3.7.3->janusgraphpython==1.1.1) (6.1.0)\n",
      "Requirement already satisfied: propcache>=0.2.0 in /home/lucasmsp/.local/lib/python3.10/site-packages (from aiohttp<4.0.0,>=3.8.0->gremlinpython==3.7.3->janusgraphpython==1.1.1) (0.2.1)\n",
      "Requirement already satisfied: yarl<2.0,>=1.17.0 in /home/lucasmsp/.local/lib/python3.10/site-packages (from aiohttp<4.0.0,>=3.8.0->gremlinpython==3.7.3->janusgraphpython==1.1.1) (1.18.3)\n",
      "Requirement already satisfied: typing-extensions>=4.1.0 in /home/lucasmsp/.local/lib/python3.10/site-packages (from multidict<7.0,>=4.5->aiohttp<4.0.0,>=3.8.0->gremlinpython==3.7.3->janusgraphpython==1.1.1) (4.10.0)\n",
      "Requirement already satisfied: idna>=2.0 in /usr/lib/python3/dist-packages (from yarl<2.0,>=1.17.0->aiohttp<4.0.0,>=3.8.0->gremlinpython==3.7.3->janusgraphpython==1.1.1) (3.3)\n",
      "Downloading janusgraphpython-1.1.1-py3-none-any.whl (42 kB)\n",
      "Downloading gremlinpython-3.7.3-py3-none-any.whl (78 kB)\n",
      "Installing collected packages: gremlinpython, janusgraphpython\n",
      "  Attempting uninstall: gremlinpython\n",
      "    Found existing installation: gremlinpython 3.7.4\n",
      "    Uninstalling gremlinpython-3.7.4:\n",
      "      Successfully uninstalled gremlinpython-3.7.4\n",
      "Successfully installed gremlinpython-3.7.3 janusgraphpython-1.1.1\n",
      "\n",
      "\u001b[1m[\u001b[0m\u001b[34;49mnotice\u001b[0m\u001b[1;39;49m]\u001b[0m\u001b[39;49m A new release of pip is available: \u001b[0m\u001b[31;49m24.2\u001b[0m\u001b[39;49m -> \u001b[0m\u001b[32;49m25.2\u001b[0m\n",
      "\u001b[1m[\u001b[0m\u001b[34;49mnotice\u001b[0m\u001b[1;39;49m]\u001b[0m\u001b[39;49m To update, run: \u001b[0m\u001b[32;49mpython3 -m pip install --upgrade pip\u001b[0m\n"
     ]
    }
   ],
   "source": [
    "! pip install janusgraphpython==1.1.1"
   ]
  },
  {
   "cell_type": "code",
   "execution_count": 19,
   "id": "94490592-6c72-43f5-8367-a9a0755833fc",
   "metadata": {},
   "outputs": [],
   "source": [
    "import nest_asyncio  # Only needed when using Jupyter/Zeppeling notebooks\n",
    "nest_asyncio.apply()"
   ]
  },
  {
   "cell_type": "code",
   "execution_count": 2,
   "id": "617630fb-a901-43ee-a367-e20e31f9a5ef",
   "metadata": {},
   "outputs": [],
   "source": [
    "from gremlin_python import statics\n",
    "from gremlin_python.structure.graph import Graph\n",
    "from gremlin_python.process.graph_traversal import GraphTraversalSource, __, outV, inV, valueMap, both, bothE, bothV\n",
    "from gremlin_python.driver.driver_remote_connection import DriverRemoteConnection\n",
    "from gremlin_python.process.anonymous_traversal import traversal\n",
    "from gremlin_python.driver import client\n",
    "from gremlin_python.process.traversal import Barrier, Bindings, Cardinality, Column, Direction, Operator, Order, P, Pop, Scope, T, WithOptions, within\n",
    "\n",
    "\n",
    "from janusgraph_python.driver.serializer import JanusGraphSONSerializersV3d0\n",
    "from janusgraph_python.process.traversal import Text\n"
   ]
  },
  {
   "cell_type": "markdown",
   "id": "4d3e3546-ca8a-42f4-889a-efbc98a86eac",
   "metadata": {},
   "source": [
    "Interface 1 - String API:\n",
    "\n",
    "In this example, we connect from the *graph* (which allows viewing schemas and other configurations), and then convert to the traversal (to walk through the graph). \n",
    "\n",
    "**Note:** The graph variable is defined in both, standalone or pseudo-distributed setup."
   ]
  },
  {
   "cell_type": "code",
   "execution_count": null,
   "id": "62a5d72a-d61d-49ac-9bb2-c068e152f38a",
   "metadata": {},
   "outputs": [],
   "source": [
    "c = client.Client('ws://localhost:8182/gremlin', 'graph',  message_serializer=JanusGraphSONSerializersV3d0())\n",
    "\n",
    "res = c.submit(\"graph.traversal().V().values('name')\").all().result()\n",
    "\n",
    "print(res)\n"
   ]
  },
  {
   "cell_type": "markdown",
   "id": "914b3967-162c-4b43-9bae-dd0a34b9e359",
   "metadata": {},
   "source": [
    "Interface 2 - Python Interface:\n",
    "\n",
    "In this way, we connect directly through tranversal mode, using g1 and g2 (only defined in pseudo-distributed setup)"
   ]
  },
  {
   "cell_type": "code",
   "execution_count": 365,
   "id": "aebb3179-6e62-4569-bda9-c8cbbfc9e27a",
   "metadata": {},
   "outputs": [
    {
     "name": "stdout",
     "output_type": "stream",
     "text": [
      "7\n",
      "14\n"
     ]
    }
   ],
   "source": [
    "from gremlin_python.process.anonymous_traversal import traversal\n",
    "from gremlin_python.driver.driver_remote_connection import DriverRemoteConnection\n",
    "\n",
    "g1 = traversal().withRemote(DriverRemoteConnection('ws://localhost:8182/gremlin', 'g1',   message_serializer=JanusGraphSONSerializersV3d0()))\n",
    "print(g1.V().count().next())\n",
    "\n",
    "g2 = traversal().withRemote(DriverRemoteConnection('ws://localhost:8182/gremlin', 'g2',    message_serializer=JanusGraphSONSerializersV3d0()))\n",
    "print(g2.V().count().next())"
   ]
  },
  {
   "cell_type": "code",
   "execution_count": null,
   "id": "6f2cbb9c-8455-4668-905f-b1dc284ced18",
   "metadata": {},
   "outputs": [],
   "source": [
    "from typing import Optional\n",
    "\n",
    "def find_vertex_id(g, name):\n",
    "    v = g.V().has('name', name).toList()\n",
    "    if v:\n",
    "        return v[0]\n",
    "    else:\n",
    "        print(\"Vertice not found\")\n",
    "    \n",
    "\n",
    "def add_edge(g: GraphTraversalSource, from_id: int, to_id: str, edge_label: str, param: Optional[str] = None):\n",
    "    \n",
    "    v1 = find_vertex_id(g, from_id)\n",
    "    v2 = find_vertex_id(g, to_id)\n",
    "    g.V(v1).addE(edge_label).to(__.V(v2)).property(\"param\", param).next()\n",
    "\n",
    "def add_vertex(g: GraphTraversalSource, vertex_label: str, name: Optional[str] = None):\n",
    "    g.addV(vertex_label).property(\"name\", name).next()\n",
    "\n",
    "def init_toy_graph(g: GraphTraversalSource):\n",
    "    g.V().drop().iterate()  # remove tudo\n",
    "    g.E().drop().iterate()  \n",
    "    add_vertex(g, \"user\",  name=\"Lucas\")\n",
    "    add_vertex(g, \"user\",  name=\"Julia\")\n",
    "    add_vertex(g, \"file\",  name=\"your_new_idea.pdf\")\n",
    "    add_vertex(g, \"file\",  name=\"salary.pdf\")\n",
    "    add_vertex(g, \"file\",  name=\"demo.py\")\n",
    "    add_vertex(g, \"file\",  name=\"blog.html\")\n",
    "    add_vertex(g, \"drive\", name=\"my_drive\")\n",
    "    add_edge(g, \"Lucas\", 'salary.pdf', \"edit\")\n",
    "    add_edge(g, \"Lucas\", \"demo.py\", \"edit\")\n",
    "    add_edge(g, \"Lucas\", \"my_drive\", \"view\")\n",
    "    add_edge(g, 'Julia', \"your_new_idea.pdf\", \"print\")\n",
    "    add_edge(g, \"Julia\", \"your_new_idea.pdf\", \"edit\")\n",
    "    add_edge(g, \"your_new_idea.pdf\", 'my_drive', \"located_in\")\n",
    "\n",
    "init_toy_graph(g1)"
   ]
  },
  {
   "cell_type": "markdown",
   "id": "48896b3d-9898-44ad-a659-3e0495d220dc",
   "metadata": {},
   "source": [
    "List all vertices names:"
   ]
  },
  {
   "cell_type": "code",
   "execution_count": 6,
   "id": "b10fa749-30f2-46df-acbf-18b4489976f1",
   "metadata": {},
   "outputs": [
    {
     "name": "stdout",
     "output_type": "stream",
     "text": [
      "['Lucas', 'salary.pdf', 'my_drive', 'blog.html', 'Julia', 'your_new_idea.pdf', 'demo.py']\n"
     ]
    }
   ],
   "source": [
    "print(g1.V().values('name').toList())"
   ]
  },
  {
   "cell_type": "markdown",
   "id": "de12dd88-0c1e-4c70-ad71-05b318e2867a",
   "metadata": {},
   "source": [
    "List all vertices properties:"
   ]
  },
  {
   "cell_type": "code",
   "execution_count": 317,
   "id": "1356db1d-4b38-4752-b559-f20bfd4de0b3",
   "metadata": {},
   "outputs": [
    {
     "data": {
      "text/plain": [
       "[{'name': ['your_new_idea.pdf'], <T.id: 1>: 4112, <T.label: 4>: 'file'},\n",
       " {'name': ['my_drive'], <T.id: 1>: 8208, <T.label: 4>: 'drive'},\n",
       " {'name': ['Lucas'], <T.id: 1>: 4200, <T.label: 4>: 'user'},\n",
       " {'name': ['salary.pdf'], <T.id: 1>: 8296, <T.label: 4>: 'file'},\n",
       " {'name': ['demo.py'], <T.id: 1>: 12392, <T.label: 4>: 'file'},\n",
       " {'name': ['blog.html'], <T.id: 1>: 4280, <T.label: 4>: 'file'},\n",
       " {'name': ['Julia'], <T.id: 1>: 4312, <T.label: 4>: 'user'}]"
      ]
     },
     "execution_count": 317,
     "metadata": {},
     "output_type": "execute_result"
    }
   ],
   "source": [
    "g1.V().valueMap(True).toList()"
   ]
  },
  {
   "cell_type": "markdown",
   "id": "5d1481fe-b715-4fd6-b1d0-801a1454974e",
   "metadata": {},
   "source": [
    "Retrieve all vertices (files) that were edited by any user in the system."
   ]
  },
  {
   "cell_type": "code",
   "execution_count": 318,
   "id": "1222c2a7-cba4-4d50-b71c-0807a0edadc2",
   "metadata": {},
   "outputs": [
    {
     "data": {
      "text/plain": [
       "[v[8296], v[12392], v[4112]]"
      ]
     },
     "execution_count": 318,
     "metadata": {},
     "output_type": "execute_result"
    }
   ],
   "source": [
    "g1.V().out(\"edit\").hasLabel(\"file\").toList()"
   ]
  },
  {
   "cell_type": "markdown",
   "id": "6e699bf5-fe3c-4d4e-ad79-a9c76db31a89",
   "metadata": {},
   "source": [
    "Same example, but returning the name instead of vertice id"
   ]
  },
  {
   "cell_type": "code",
   "execution_count": 319,
   "id": "c28910e1-cc3f-487f-be94-01f902ffeace",
   "metadata": {},
   "outputs": [
    {
     "data": {
      "text/plain": [
       "['salary.pdf', 'demo.py', 'your_new_idea.pdf']"
      ]
     },
     "execution_count": 319,
     "metadata": {},
     "output_type": "execute_result"
    }
   ],
   "source": [
    "g1.V().out(\"edit\").hasLabel(\"file\").values('name').toList()"
   ]
  },
  {
   "cell_type": "markdown",
   "id": "eb8a611d-9490-489d-b2e6-3e58548e71cf",
   "metadata": {},
   "source": [
    "We can access a vertice directly if the have it vertice id:"
   ]
  },
  {
   "cell_type": "code",
   "execution_count": 321,
   "id": "609030f0-f6cd-4f67-9547-8924a47353a8",
   "metadata": {},
   "outputs": [
    {
     "data": {
      "text/plain": [
       "{'name': ['salary.pdf'], <T.id: 1>: 8296, <T.label: 4>: 'file'}"
      ]
     },
     "execution_count": 321,
     "metadata": {},
     "output_type": "execute_result"
    }
   ],
   "source": [
    "g1.V(8296).valueMap(True).next()"
   ]
  },
  {
   "cell_type": "markdown",
   "id": "6a1ebaa1-8a55-411e-8643-2bbf3aa84a94",
   "metadata": {},
   "source": [
    "Listing all edges:"
   ]
  },
  {
   "cell_type": "code",
   "execution_count": null,
   "id": "64f89035-bbc1-4344-bf49-94481b0d79a2",
   "metadata": {},
   "outputs": [],
   "source": [
    "for e in g1.E().limit(10).toList():\n",
    "    print(e)"
   ]
  },
  {
   "cell_type": "markdown",
   "id": "944daf7f-3d94-4630-8996-131bdcfb8730",
   "metadata": {},
   "source": [
    "Another way to list edges and their properties:"
   ]
  },
  {
   "cell_type": "code",
   "execution_count": 322,
   "id": "eacf719c-b434-4d5c-bcd8-bcc00ce16cdc",
   "metadata": {},
   "outputs": [
    {
     "data": {
      "text/plain": [
       "[{<T.id: 1>: {'@type': 'janusgraph:RelationIdentifier',\n",
       "   '@value': {'relationId': '2rm-368-6c5-6c0'}},\n",
       "  <T.label: 4>: 'located_in'},\n",
       " {<T.id: 1>: {'@type': 'janusgraph:RelationIdentifier',\n",
       "   '@value': {'relationId': '3yl-38o-3yt-6eg'}},\n",
       "  <T.label: 4>: 'edit'},\n",
       " {<T.id: 1>: {'@type': 'janusgraph:RelationIdentifier',\n",
       "   '@value': {'relationId': '4ct-38o-3yt-9k8'}},\n",
       "  <T.label: 4>: 'edit'},\n",
       " {<T.id: 1>: {'@type': 'janusgraph:RelationIdentifier',\n",
       "   '@value': {'relationId': '4r1-38o-4r9-6c0'}},\n",
       "  <T.label: 4>: 'view'},\n",
       " {<T.id: 1>: {'@type': 'janusgraph:RelationIdentifier',\n",
       "   '@value': {'relationId': '1zv-3bs-3yt-368'}},\n",
       "  <T.label: 4>: 'edit'},\n",
       " {<T.id: 1>: {'@type': 'janusgraph:RelationIdentifier',\n",
       "   '@value': {'relationId': '1ln-3bs-5jp-368'}},\n",
       "  <T.label: 4>: 'print'}]"
      ]
     },
     "execution_count": 322,
     "metadata": {},
     "output_type": "execute_result"
    }
   ],
   "source": [
    "g1.E().valueMap(True).toList()"
   ]
  },
  {
   "cell_type": "markdown",
   "id": "1af69862-3c1b-4176-9fff-6f15b71fd39f",
   "metadata": {},
   "source": [
    "Example: Retrieve all vertices and edges to create a networkx graph"
   ]
  },
  {
   "cell_type": "code",
   "execution_count": 324,
   "id": "879cff9a-9eec-4684-9d0d-9fdb8551131a",
   "metadata": {},
   "outputs": [],
   "source": [
    "vertices = g1.V().valueMap(True).toList()\n",
    "\n",
    "arestas = g1.E().project('from_name', 'to_name', 'edge_props') \\\n",
    "    .by(outV().values('name').fold()) \\\n",
    "    .by(inV().values('name').fold()) \\\n",
    "    .by(valueMap(True)).toList()"
   ]
  },
  {
   "cell_type": "code",
   "execution_count": 326,
   "id": "48325d31-1816-426d-986d-d75e143a0819",
   "metadata": {},
   "outputs": [
    {
     "name": "stdout",
     "output_type": "stream",
     "text": [
      "Aresta de ['your_new_idea.pdf'] para ['my_drive']: located_in\n",
      "Aresta de ['Lucas'] para ['salary.pdf']: edit\n",
      "Aresta de ['Lucas'] para ['demo.py']: edit\n",
      "Aresta de ['Lucas'] para ['my_drive']: view\n",
      "Aresta de ['Julia'] para ['your_new_idea.pdf']: edit\n",
      "Aresta de ['Julia'] para ['your_new_idea.pdf']: print\n"
     ]
    }
   ],
   "source": [
    "for edge in arestas:\n",
    "    print(f\"Aresta de {edge['from_name']} para {edge['to_name']}: {edge['edge_props'][T.label]}\")"
   ]
  },
  {
   "cell_type": "code",
   "execution_count": 327,
   "id": "76f31f62-6e69-426c-b2c4-53889198fdb9",
   "metadata": {},
   "outputs": [
    {
     "data": {
      "image/png": "[encoded data removed]",
      "text/plain": [
       "<Figure size 432x288 with 1 Axes>"
      ]
     },
     "metadata": {},
     "output_type": "display_data"
    }
   ],
   "source": [
    "import networkx as nx\n",
    "import matplotlib.pyplot as plt\n",
    "\n",
    "G = nx.DiGraph()\n",
    "\n",
    "for v in vertices:\n",
    "    G.add_node(v['name'][0])\n",
    "    \n",
    "for e in arestas:\n",
    "\n",
    "    G.add_edge(e['from_name'][0], e['to_name'][0], label=e['edge_props'][T.label])\n",
    "nx.draw(G, with_labels=True)\n",
    "plt.show()"
   ]
  },
  {
   "cell_type": "markdown",
   "id": "1dd30c4b-23e5-4c0a-8de9-68c5443f474b",
   "metadata": {},
   "source": [
    "Listing all edges using project (to better preview):"
   ]
  },
  {
   "cell_type": "code",
   "execution_count": 328,
   "id": "893a0285-cc5f-4a8e-81c2-075380664bd5",
   "metadata": {},
   "outputs": [
    {
     "data": {
      "text/plain": [
       "[{'out': 4112, 'in': 8208},\n",
       " {'out': 4200, 'in': 8296},\n",
       " {'out': 4200, 'in': 12392},\n",
       " {'out': 4200, 'in': 8208},\n",
       " {'out': 4312, 'in': 4112},\n",
       " {'out': 4312, 'in': 4112}]"
      ]
     },
     "execution_count": 328,
     "metadata": {},
     "output_type": "execute_result"
    }
   ],
   "source": [
    "g1.E().limit(10)\\\n",
    "    .project('id', 'out', 'in', 'label') \\\n",
    "    .by('id')\\\n",
    "    .by(outV().id_())\\\n",
    "    .by(inV().id_())\\\n",
    "    .toList()"
   ]
  },
  {
   "cell_type": "markdown",
   "id": "4a044fbf-d1a9-4306-87f8-57c7dce041dc",
   "metadata": {},
   "source": [
    "Select all vertices with a X hop-distance:"
   ]
  },
  {
   "cell_type": "code",
   "execution_count": 329,
   "id": "cbc3ea28-0951-4cc7-b2ff-a2c1326eb640",
   "metadata": {},
   "outputs": [
    {
     "name": "stdout",
     "output_type": "stream",
     "text": [
      "[8296, 12392, 8208]\n",
      "[{'from_name': [4112], 'to_name': [8208], 'edge_props': {<T.id: 1>: {'@type': 'janusgraph:RelationIdentifier', '@value': {'relationId': '2rm-368-6c5-6c0'}}, <T.label: 4>: 'located_in'}}, {'from_name': [4200], 'to_name': [8296], 'edge_props': {<T.id: 1>: {'@type': 'janusgraph:RelationIdentifier', '@value': {'relationId': '3yl-38o-3yt-6eg'}}, <T.label: 4>: 'edit'}}, {'from_name': [4200], 'to_name': [12392], 'edge_props': {<T.id: 1>: {'@type': 'janusgraph:RelationIdentifier', '@value': {'relationId': '4ct-38o-3yt-9k8'}}, <T.label: 4>: 'edit'}}, {'from_name': [4200], 'to_name': [8208], 'edge_props': {<T.id: 1>: {'@type': 'janusgraph:RelationIdentifier', '@value': {'relationId': '4r1-38o-4r9-6c0'}}, <T.label: 4>: 'view'}}]\n",
      "Vértices encontrados: 3\n",
      "Arestas encontradas: 4\n"
     ]
    }
   ],
   "source": [
    "\n",
    "vertices = g1.V().has('name', 'Lucas').repeat(__.both().simplePath()).emit().times(1).dedup().id_().toList()\n",
    "print(vertices)\n",
    "\n",
    "\n",
    "edges = g1.E() \\\n",
    "    .filter_(bothV().id_().is_(within(vertices))) \\\n",
    "    .project('from_name', 'to_name', 'edge_props') \\\n",
    "    .by(outV().id_().fold()) \\\n",
    "    .by(inV().id_().fold()) \\\n",
    "    .by(valueMap(True)).toList()\n",
    "\n",
    "print(edges)\n",
    "\n",
    "print(f\"Vértices encontrados: {len(vertices)}\")\n",
    "print(f\"Arestas encontradas: {len(edges)}\")"
   ]
  },
  {
   "cell_type": "code",
   "execution_count": 330,
   "id": "58143f91-3e2b-4249-9e68-154ebf1cd321",
   "metadata": {},
   "outputs": [
    {
     "data": {
      "image/png": "[encoded data removed]",
      "text/plain": [
       "<Figure size 432x288 with 1 Axes>"
      ]
     },
     "metadata": {},
     "output_type": "display_data"
    }
   ],
   "source": [
    "import networkx as nx\n",
    "import matplotlib.pyplot as plt\n",
    "\n",
    "G = nx.DiGraph()\n",
    "\n",
    "for v in vertices:\n",
    "    G.add_node(v)\n",
    "    \n",
    "for e in edges:\n",
    "\n",
    "    G.add_edge(e['from_name'][0], e['to_name'][0])\n",
    "nx.draw(G, with_labels=True)\n",
    "plt.show()"
   ]
  }
 ],
 "metadata": {
  "kernelspec": {
   "display_name": "Python 3 (ipykernel)",
   "language": "python",
   "name": "python3"
  },
  "language_info": {
   "codemirror_mode": {
    "name": "ipython",
    "version": 3
   },
   "file_extension": ".py",
   "mimetype": "text/x-python",
   "name": "python",
   "nbconvert_exporter": "python",
   "pygments_lexer": "ipython3",
   "version": "3.10.12"
  }
 },
 "nbformat": 4,
 "nbformat_minor": 5
}
